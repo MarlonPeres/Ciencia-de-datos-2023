{
 "cells": [
  {
   "cell_type": "code",
   "execution_count": 1,
   "metadata": {},
   "outputs": [],
   "source": [
    "import pandas as pd \n",
    "import numpy as np"
   ]
  },
  {
   "attachments": {},
   "cell_type": "markdown",
   "metadata": {},
   "source": [
    "## Parte 1: NUMPY:"
   ]
  },
  {
   "attachments": {},
   "cell_type": "markdown",
   "metadata": {},
   "source": [
    "#### 1) ¿Cuàl es el tamaño en bytes de un array de 1000 elementos de tipo de booleno?"
   ]
  },
  {
   "cell_type": "code",
   "execution_count": 3,
   "metadata": {},
   "outputs": [
    {
     "name": "stdout",
     "output_type": "stream",
     "text": [
      "[[  0   1   2   3   4   5   6   7   8   9  10  11  12  13  14  15  16  17\n",
      "   18  19  20  21  22  23  24  25  26  27  28  29  30  31  32  33  34  35\n",
      "   36  37  38  39  40  41  42  43  44  45  46  47  48  49  50  51  52  53\n",
      "   54  55  56  57  58  59  60  61  62  63  64  65  66  67  68  69  70  71\n",
      "   72  73  74  75  76  77  78  79  80  81  82  83  84  85  86  87  88  89\n",
      "   90  91  92  93  94  95  96  97  98  99]\n",
      " [100 101 102 103 104 105 106 107 108 109 110 111 112 113 114 115 116 117\n",
      "  118 119 120 121 122 123 124 125 126 127 128 129 130 131 132 133 134 135\n",
      "  136 137 138 139 140 141 142 143 144 145 146 147 148 149 150 151 152 153\n",
      "  154 155 156 157 158 159 160 161 162 163 164 165 166 167 168 169 170 171\n",
      "  172 173 174 175 176 177 178 179 180 181 182 183 184 185 186 187 188 189\n",
      "  190 191 192 193 194 195 196 197 198 199]\n",
      " [200 201 202 203 204 205 206 207 208 209 210 211 212 213 214 215 216 217\n",
      "  218 219 220 221 222 223 224 225 226 227 228 229 230 231 232 233 234 235\n",
      "  236 237 238 239 240 241 242 243 244 245 246 247 248 249 250 251 252 253\n",
      "  254 255 256 257 258 259 260 261 262 263 264 265 266 267 268 269 270 271\n",
      "  272 273 274 275 276 277 278 279 280 281 282 283 284 285 286 287 288 289\n",
      "  290 291 292 293 294 295 296 297 298 299]\n",
      " [300 301 302 303 304 305 306 307 308 309 310 311 312 313 314 315 316 317\n",
      "  318 319 320 321 322 323 324 325 326 327 328 329 330 331 332 333 334 335\n",
      "  336 337 338 339 340 341 342 343 344 345 346 347 348 349 350 351 352 353\n",
      "  354 355 356 357 358 359 360 361 362 363 364 365 366 367 368 369 370 371\n",
      "  372 373 374 375 376 377 378 379 380 381 382 383 384 385 386 387 388 389\n",
      "  390 391 392 393 394 395 396 397 398 399]\n",
      " [400 401 402 403 404 405 406 407 408 409 410 411 412 413 414 415 416 417\n",
      "  418 419 420 421 422 423 424 425 426 427 428 429 430 431 432 433 434 435\n",
      "  436 437 438 439 440 441 442 443 444 445 446 447 448 449 450 451 452 453\n",
      "  454 455 456 457 458 459 460 461 462 463 464 465 466 467 468 469 470 471\n",
      "  472 473 474 475 476 477 478 479 480 481 482 483 484 485 486 487 488 489\n",
      "  490 491 492 493 494 495 496 497 498 499]\n",
      " [500 501 502 503 504 505 506 507 508 509 510 511 512 513 514 515 516 517\n",
      "  518 519 520 521 522 523 524 525 526 527 528 529 530 531 532 533 534 535\n",
      "  536 537 538 539 540 541 542 543 544 545 546 547 548 549 550 551 552 553\n",
      "  554 555 556 557 558 559 560 561 562 563 564 565 566 567 568 569 570 571\n",
      "  572 573 574 575 576 577 578 579 580 581 582 583 584 585 586 587 588 589\n",
      "  590 591 592 593 594 595 596 597 598 599]\n",
      " [600 601 602 603 604 605 606 607 608 609 610 611 612 613 614 615 616 617\n",
      "  618 619 620 621 622 623 624 625 626 627 628 629 630 631 632 633 634 635\n",
      "  636 637 638 639 640 641 642 643 644 645 646 647 648 649 650 651 652 653\n",
      "  654 655 656 657 658 659 660 661 662 663 664 665 666 667 668 669 670 671\n",
      "  672 673 674 675 676 677 678 679 680 681 682 683 684 685 686 687 688 689\n",
      "  690 691 692 693 694 695 696 697 698 699]\n",
      " [700 701 702 703 704 705 706 707 708 709 710 711 712 713 714 715 716 717\n",
      "  718 719 720 721 722 723 724 725 726 727 728 729 730 731 732 733 734 735\n",
      "  736 737 738 739 740 741 742 743 744 745 746 747 748 749 750 751 752 753\n",
      "  754 755 756 757 758 759 760 761 762 763 764 765 766 767 768 769 770 771\n",
      "  772 773 774 775 776 777 778 779 780 781 782 783 784 785 786 787 788 789\n",
      "  790 791 792 793 794 795 796 797 798 799]\n",
      " [800 801 802 803 804 805 806 807 808 809 810 811 812 813 814 815 816 817\n",
      "  818 819 820 821 822 823 824 825 826 827 828 829 830 831 832 833 834 835\n",
      "  836 837 838 839 840 841 842 843 844 845 846 847 848 849 850 851 852 853\n",
      "  854 855 856 857 858 859 860 861 862 863 864 865 866 867 868 869 870 871\n",
      "  872 873 874 875 876 877 878 879 880 881 882 883 884 885 886 887 888 889\n",
      "  890 891 892 893 894 895 896 897 898 899]\n",
      " [900 901 902 903 904 905 906 907 908 909 910 911 912 913 914 915 916 917\n",
      "  918 919 920 921 922 923 924 925 926 927 928 929 930 931 932 933 934 935\n",
      "  936 937 938 939 940 941 942 943 944 945 946 947 948 949 950 951 952 953\n",
      "  954 955 956 957 958 959 960 961 962 963 964 965 966 967 968 969 970 971\n",
      "  972 973 974 975 976 977 978 979 980 981 982 983 984 985 986 987 988 989\n",
      "  990 991 992 993 994 995 996 997 998 999]]\n"
     ]
    }
   ],
   "source": [
    "array_1 = np.reshape(np.arange(1000),(10,100))\n",
    "print(array_1)"
   ]
  },
  {
   "attachments": {},
   "cell_type": "markdown",
   "metadata": {},
   "source": [
    "#### 2) Cree un array cuyos elementos sean los enteros pares en [1,100] y en orden decreciente. Muestre los 10 últimos por pantalla."
   ]
  },
  {
   "cell_type": "code",
   "execution_count": 15,
   "metadata": {},
   "outputs": [
    {
     "data": {
      "text/plain": [
       "array([18, 16, 14, 12, 10,  8,  6,  4,  2,  0])"
      ]
     },
     "execution_count": 15,
     "metadata": {},
     "output_type": "execute_result"
    }
   ],
   "source": [
    "dos = np.arange(0,1002,2)\n",
    "dos[::-1].sort()\n",
    "dos[-10:]\n"
   ]
  },
  {
   "attachments": {},
   "cell_type": "markdown",
   "metadata": {},
   "source": [
    "#### 3) Dado el array, seleccione con una instrucción el subarray de elementos 0374\n"
   ]
  },
  {
   "cell_type": "code",
   "execution_count": 23,
   "metadata": {},
   "outputs": [
    {
     "name": "stdout",
     "output_type": "stream",
     "text": [
      "[[2 4 5 6]\n",
      " [0 3 7 4]\n",
      " [8 8 5 2]\n",
      " [1 5 6 1]]\n"
     ]
    },
    {
     "data": {
      "text/plain": [
       "array([0, 3, 7, 4])"
      ]
     },
     "execution_count": 23,
     "metadata": {},
     "output_type": "execute_result"
    }
   ],
   "source": [
    "array3 = np.array([[2,4,5,6],[0,3,7,4],[8,8,5,2],[1,5,6,1]])\n",
    "print(array3)\n",
    "array3[1]"
   ]
  },
  {
   "attachments": {},
   "cell_type": "markdown",
   "metadata": {},
   "source": [
    "#### Después, seleccione el subarray de elementos"
   ]
  },
  {
   "cell_type": "code",
   "execution_count": 58,
   "metadata": {},
   "outputs": [
    {
     "name": "stdout",
     "output_type": "stream",
     "text": [
      "2,5,8,5, conviertiendolo a un arreglo[[2 5]\n",
      " [8 5]]\n"
     ]
    }
   ],
   "source": [
    "arr1 = array3[0,0]\n",
    "arr2 = array3[0,2]\n",
    "arr3 = array3[2,0]\n",
    "arr4 = array3[2,2]\n",
    "arr = np.array([[arr1,arr2],[arr3,arr4]])\n",
    "print(f\"{arr1},{arr2},{arr3},{arr4}, conviertiendolo a un arreglo{arr}\")"
   ]
  },
  {
   "attachments": {},
   "cell_type": "markdown",
   "metadata": {},
   "source": [
    "#### 4) Dados los arrays a = [1,4,2,7] y b = [1,3,2,9], obtenga la media artiméticade la diferencia de (a-b)"
   ]
  },
  {
   "cell_type": "code",
   "execution_count": 66,
   "metadata": {},
   "outputs": [
    {
     "name": "stdout",
     "output_type": "stream",
     "text": [
      "la media aritmética es : -0.25\n"
     ]
    }
   ],
   "source": [
    "a = np.array([1,4,2,7])\n",
    "b = np.array([1,3,2,9])\n",
    "c = np.average(a - b)\n",
    "print(f\"la media aritmética es : {c}\")\n"
   ]
  },
  {
   "attachments": {},
   "cell_type": "markdown",
   "metadata": {},
   "source": [
    "#### 5) Tengo valores de cordenadas (x,y) en las columnas del array 1.33 4.5 30.0 10.7 70.2 0.5"
   ]
  },
  {
   "attachments": {},
   "cell_type": "markdown",
   "metadata": {},
   "source": [
    "#### Agregue a este array las coordenadas (37.1, -3.6)"
   ]
  },
  {
   "cell_type": "code",
   "execution_count": 68,
   "metadata": {},
   "outputs": [
    {
     "data": {
      "text/plain": [
       "array([[ 1.33,  4.5 ],\n",
       "       [30.  , 10.7 ],\n",
       "       [70.2 ,  0.5 ]])"
      ]
     },
     "execution_count": 68,
     "metadata": {},
     "output_type": "execute_result"
    }
   ],
   "source": [
    "cinco = np.array([[1.33,4.5],[30.0,10.7],[70.2,0.5]])\n",
    "cinco"
   ]
  },
  {
   "cell_type": "code",
   "execution_count": 76,
   "metadata": {},
   "outputs": [
    {
     "data": {
      "text/plain": [
       "array([[ 1.33,  4.5 ],\n",
       "       [30.  , 10.7 ],\n",
       "       [70.2 ,  0.5 ],\n",
       "       [37.1 , -3.5 ]])"
      ]
     },
     "execution_count": 76,
     "metadata": {},
     "output_type": "execute_result"
    }
   ],
   "source": [
    "respuesta5 = np.append(cinco,np.array([[37.1,-3.5]]),axis=0)\n",
    "respuesta5"
   ]
  },
  {
   "attachments": {},
   "cell_type": "markdown",
   "metadata": {},
   "source": [
    "#### 6) Copie el array del ejercicio anterior. Traspóngalo, agregue ahora dos nuevos pares de coordenadas: (10.8,3.0) y (35.8,12.0)"
   ]
  },
  {
   "cell_type": "code",
   "execution_count": 101,
   "metadata": {},
   "outputs": [
    {
     "data": {
      "text/plain": [
       "array([[ 1.33, 30.  , 70.2 , 37.1 , 10.8 ,  3.  ],\n",
       "       [ 4.5 , 10.7 ,  0.5 , -3.5 , 35.8 , 12.  ]])"
      ]
     },
     "execution_count": 101,
     "metadata": {},
     "output_type": "execute_result"
    }
   ],
   "source": [
    "respuesta_5 = respuesta5.transpose()\n",
    "respuesta_5\n",
    "respuesta_6 = np.append(respuesta_5, np.array([[10.8,3.0],[35.8,12.0]]),axis = 1)\n",
    "respuesta_6"
   ]
  },
  {
   "attachments": {},
   "cell_type": "markdown",
   "metadata": {},
   "source": [
    "## Parte 2: EXPLORACION Y MINERIA DE DATOS"
   ]
  },
  {
   "cell_type": "code",
   "execution_count": 144,
   "metadata": {},
   "outputs": [
    {
     "data": {
      "text/plain": [
       "array([['FID', 'OBJECTID', 'Texto', ..., 'Provincia', 'X', 'Y'],\n",
       "       ['0', '1', 'Agüimes', ..., 'Las Palmas', '-15.446012264',\n",
       "        '27.9005418852'],\n",
       "       ['1', '2', 'Antigua', ..., 'Las Palmas', '-14.01330083',\n",
       "        '28.4189662242'],\n",
       "       ...,\n",
       "       ['849', '850', 'Vista Alegre', ..., 'Murcia', '-1.130563853',\n",
       "        '37.9957145751'],\n",
       "       ['850', '851', 'Poligono Sta M de Benquerencia', ..., 'Toledo',\n",
       "        '-3.948363664', '39.8666989761'],\n",
       "       ['851', '852', 'Grao', ..., 'Castelló/Castellón', '0.012911354',\n",
       "        '39.9735678251']], dtype='<U47')"
      ]
     },
     "execution_count": 144,
     "metadata": {},
     "output_type": "execute_result"
    }
   ],
   "source": [
    "nucleos = np.loadtxt('NucleosPoblacion.csv',delimiter=\",\",dtype=str)\n",
    "nucleos"
   ]
  },
  {
   "cell_type": "code",
   "execution_count": 145,
   "metadata": {},
   "outputs": [],
   "source": [
    "nucleos_poblacion = pd.DataFrame(nucleos)\n"
   ]
  },
  {
   "cell_type": "code",
   "execution_count": 146,
   "metadata": {},
   "outputs": [],
   "source": [
    "nucleos_poblacion.columns = nucleos_poblacion.iloc[0]\n"
   ]
  },
  {
   "cell_type": "code",
   "execution_count": 147,
   "metadata": {},
   "outputs": [],
   "source": [
    "nucleos_poblacion.drop(0,axis = 0, inplace = True)\n",
    "\n",
    "\n"
   ]
  },
  {
   "cell_type": "code",
   "execution_count": 148,
   "metadata": {},
   "outputs": [
    {
     "data": {
      "text/html": [
       "<div>\n",
       "<style scoped>\n",
       "    .dataframe tbody tr th:only-of-type {\n",
       "        vertical-align: middle;\n",
       "    }\n",
       "\n",
       "    .dataframe tbody tr th {\n",
       "        vertical-align: top;\n",
       "    }\n",
       "\n",
       "    .dataframe thead th {\n",
       "        text-align: right;\n",
       "    }\n",
       "</style>\n",
       "<table border=\"1\" class=\"dataframe\">\n",
       "  <thead>\n",
       "    <tr style=\"text-align: right;\">\n",
       "      <th></th>\n",
       "      <th>FID</th>\n",
       "      <th>OBJECTID</th>\n",
       "      <th>Texto</th>\n",
       "      <th>Poblacion</th>\n",
       "      <th>CodMun</th>\n",
       "      <th>Municipio</th>\n",
       "      <th>CodProvin</th>\n",
       "      <th>Provincia</th>\n",
       "      <th>X</th>\n",
       "      <th>Y</th>\n",
       "    </tr>\n",
       "  </thead>\n",
       "  <tbody>\n",
       "    <tr>\n",
       "      <th>1</th>\n",
       "      <td>0</td>\n",
       "      <td>1</td>\n",
       "      <td>Agüimes</td>\n",
       "      <td>29431.0</td>\n",
       "      <td>35002</td>\n",
       "      <td>Agüimes</td>\n",
       "      <td>35</td>\n",
       "      <td>Las Palmas</td>\n",
       "      <td>-15.446012264</td>\n",
       "      <td>27.9005418852</td>\n",
       "    </tr>\n",
       "    <tr>\n",
       "      <th>2</th>\n",
       "      <td>1</td>\n",
       "      <td>2</td>\n",
       "      <td>Antigua</td>\n",
       "      <td>10458.0</td>\n",
       "      <td>35003</td>\n",
       "      <td>Antigua</td>\n",
       "      <td>35</td>\n",
       "      <td>Las Palmas</td>\n",
       "      <td>-14.01330083</td>\n",
       "      <td>28.4189662242</td>\n",
       "    </tr>\n",
       "    <tr>\n",
       "      <th>3</th>\n",
       "      <td>2</td>\n",
       "      <td>3</td>\n",
       "      <td>Arrecife</td>\n",
       "      <td>58156.0</td>\n",
       "      <td>35004</td>\n",
       "      <td>Arrecife</td>\n",
       "      <td>35</td>\n",
       "      <td>Las Palmas</td>\n",
       "      <td>-13.551451235</td>\n",
       "      <td>28.9606494152</td>\n",
       "    </tr>\n",
       "    <tr>\n",
       "      <th>4</th>\n",
       "      <td>3</td>\n",
       "      <td>4</td>\n",
       "      <td>Arucas</td>\n",
       "      <td>36745.0</td>\n",
       "      <td>35006</td>\n",
       "      <td>Arucas</td>\n",
       "      <td>35</td>\n",
       "      <td>Las Palmas</td>\n",
       "      <td>-15.521511534</td>\n",
       "      <td>28.1174962002</td>\n",
       "    </tr>\n",
       "    <tr>\n",
       "      <th>5</th>\n",
       "      <td>4</td>\n",
       "      <td>5</td>\n",
       "      <td>Gáldar</td>\n",
       "      <td>24473.0</td>\n",
       "      <td>35009</td>\n",
       "      <td>Gáldar</td>\n",
       "      <td>35</td>\n",
       "      <td>Las Palmas</td>\n",
       "      <td>-15.654110983</td>\n",
       "      <td>28.1438727542</td>\n",
       "    </tr>\n",
       "    <tr>\n",
       "      <th>...</th>\n",
       "      <td>...</td>\n",
       "      <td>...</td>\n",
       "      <td>...</td>\n",
       "      <td>...</td>\n",
       "      <td>...</td>\n",
       "      <td>...</td>\n",
       "      <td>...</td>\n",
       "      <td>...</td>\n",
       "      <td>...</td>\n",
       "      <td>...</td>\n",
       "    </tr>\n",
       "    <tr>\n",
       "      <th>848</th>\n",
       "      <td>847</td>\n",
       "      <td>848</td>\n",
       "      <td>Infante Juan Manuel</td>\n",
       "      <td>14192.0</td>\n",
       "      <td>30030</td>\n",
       "      <td>Murcia</td>\n",
       "      <td>30</td>\n",
       "      <td>Murcia</td>\n",
       "      <td>-1.124304406</td>\n",
       "      <td>37.9790332151</td>\n",
       "    </tr>\n",
       "    <tr>\n",
       "      <th>849</th>\n",
       "      <td>848</td>\n",
       "      <td>849</td>\n",
       "      <td>Santa Maria de Gracia</td>\n",
       "      <td>13349.0</td>\n",
       "      <td>30030</td>\n",
       "      <td>Murcia</td>\n",
       "      <td>30</td>\n",
       "      <td>Murcia</td>\n",
       "      <td>-1.202068979</td>\n",
       "      <td>37.9840238301</td>\n",
       "    </tr>\n",
       "    <tr>\n",
       "      <th>850</th>\n",
       "      <td>849</td>\n",
       "      <td>850</td>\n",
       "      <td>Vista Alegre</td>\n",
       "      <td>15208.0</td>\n",
       "      <td>30030</td>\n",
       "      <td>Murcia</td>\n",
       "      <td>30</td>\n",
       "      <td>Murcia</td>\n",
       "      <td>-1.130563853</td>\n",
       "      <td>37.9957145751</td>\n",
       "    </tr>\n",
       "    <tr>\n",
       "      <th>851</th>\n",
       "      <td>850</td>\n",
       "      <td>851</td>\n",
       "      <td>Poligono Sta M de Benquerencia</td>\n",
       "      <td>19177.0</td>\n",
       "      <td>45168</td>\n",
       "      <td>Toledo</td>\n",
       "      <td>45</td>\n",
       "      <td>Toledo</td>\n",
       "      <td>-3.948363664</td>\n",
       "      <td>39.8666989761</td>\n",
       "    </tr>\n",
       "    <tr>\n",
       "      <th>852</th>\n",
       "      <td>851</td>\n",
       "      <td>852</td>\n",
       "      <td>Grao</td>\n",
       "      <td>16367.0</td>\n",
       "      <td>12040</td>\n",
       "      <td>Castellón de la Plana/Castelló de la Plana</td>\n",
       "      <td>12</td>\n",
       "      <td>Castelló/Castellón</td>\n",
       "      <td>0.012911354</td>\n",
       "      <td>39.9735678251</td>\n",
       "    </tr>\n",
       "  </tbody>\n",
       "</table>\n",
       "<p>852 rows × 10 columns</p>\n",
       "</div>"
      ],
      "text/plain": [
       "0    FID OBJECTID                           Texto Poblacion CodMun  \\\n",
       "1      0        1                         Agüimes   29431.0  35002   \n",
       "2      1        2                         Antigua   10458.0  35003   \n",
       "3      2        3                        Arrecife   58156.0  35004   \n",
       "4      3        4                          Arucas   36745.0  35006   \n",
       "5      4        5                          Gáldar   24473.0  35009   \n",
       "..   ...      ...                             ...       ...    ...   \n",
       "848  847      848             Infante Juan Manuel   14192.0  30030   \n",
       "849  848      849           Santa Maria de Gracia   13349.0  30030   \n",
       "850  849      850                    Vista Alegre   15208.0  30030   \n",
       "851  850      851  Poligono Sta M de Benquerencia   19177.0  45168   \n",
       "852  851      852                            Grao   16367.0  12040   \n",
       "\n",
       "0                                     Municipio CodProvin           Provincia  \\\n",
       "1                                       Agüimes        35          Las Palmas   \n",
       "2                                       Antigua        35          Las Palmas   \n",
       "3                                      Arrecife        35          Las Palmas   \n",
       "4                                        Arucas        35          Las Palmas   \n",
       "5                                        Gáldar        35          Las Palmas   \n",
       "..                                          ...       ...                 ...   \n",
       "848                                      Murcia        30              Murcia   \n",
       "849                                      Murcia        30              Murcia   \n",
       "850                                      Murcia        30              Murcia   \n",
       "851                                      Toledo        45              Toledo   \n",
       "852  Castellón de la Plana/Castelló de la Plana        12  Castelló/Castellón   \n",
       "\n",
       "0                X              Y  \n",
       "1    -15.446012264  27.9005418852  \n",
       "2     -14.01330083  28.4189662242  \n",
       "3    -13.551451235  28.9606494152  \n",
       "4    -15.521511534  28.1174962002  \n",
       "5    -15.654110983  28.1438727542  \n",
       "..             ...            ...  \n",
       "848   -1.124304406  37.9790332151  \n",
       "849   -1.202068979  37.9840238301  \n",
       "850   -1.130563853  37.9957145751  \n",
       "851   -3.948363664  39.8666989761  \n",
       "852    0.012911354  39.9735678251  \n",
       "\n",
       "[852 rows x 10 columns]"
      ]
     },
     "execution_count": 148,
     "metadata": {},
     "output_type": "execute_result"
    }
   ],
   "source": [
    "nucleos_poblacion"
   ]
  },
  {
   "attachments": {},
   "cell_type": "markdown",
   "metadata": {},
   "source": [
    "## 1."
   ]
  },
  {
   "cell_type": "code",
   "execution_count": 153,
   "metadata": {},
   "outputs": [
    {
     "ename": "TypeError",
     "evalue": "'>=' not supported between instances of 'str' and 'int'",
     "output_type": "error",
     "traceback": [
      "\u001b[1;31m---------------------------------------------------------------------------\u001b[0m",
      "\u001b[1;31mTypeError\u001b[0m                                 Traceback (most recent call last)",
      "Cell \u001b[1;32mIn[153], line 1\u001b[0m\n\u001b[1;32m----> 1\u001b[0m nucleos_poblacion\u001b[39m.\u001b[39mloc[(nucleos_poblacion[\u001b[39m'\u001b[39;49m\u001b[39mPoblacion\u001b[39;49m\u001b[39m'\u001b[39;49m]\u001b[39m>\u001b[39;49m\u001b[39m=\u001b[39;49m\u001b[39m1000\u001b[39;49m)]\n",
      "File \u001b[1;32mc:\\Users\\Marlon Daniel\\anaconda3\\envs\\CienciaDatos2022\\lib\\site-packages\\pandas\\core\\ops\\common.py:70\u001b[0m, in \u001b[0;36m_unpack_zerodim_and_defer.<locals>.new_method\u001b[1;34m(self, other)\u001b[0m\n\u001b[0;32m     66\u001b[0m             \u001b[39mreturn\u001b[39;00m \u001b[39mNotImplemented\u001b[39m\n\u001b[0;32m     68\u001b[0m other \u001b[39m=\u001b[39m item_from_zerodim(other)\n\u001b[1;32m---> 70\u001b[0m \u001b[39mreturn\u001b[39;00m method(\u001b[39mself\u001b[39;49m, other)\n",
      "File \u001b[1;32mc:\\Users\\Marlon Daniel\\anaconda3\\envs\\CienciaDatos2022\\lib\\site-packages\\pandas\\core\\arraylike.py:60\u001b[0m, in \u001b[0;36mOpsMixin.__ge__\u001b[1;34m(self, other)\u001b[0m\n\u001b[0;32m     58\u001b[0m \u001b[39m@unpack_zerodim_and_defer\u001b[39m(\u001b[39m\"\u001b[39m\u001b[39m__ge__\u001b[39m\u001b[39m\"\u001b[39m)\n\u001b[0;32m     59\u001b[0m \u001b[39mdef\u001b[39;00m \u001b[39m__ge__\u001b[39m(\u001b[39mself\u001b[39m, other):\n\u001b[1;32m---> 60\u001b[0m     \u001b[39mreturn\u001b[39;00m \u001b[39mself\u001b[39;49m\u001b[39m.\u001b[39;49m_cmp_method(other, operator\u001b[39m.\u001b[39;49mge)\n",
      "File \u001b[1;32mc:\\Users\\Marlon Daniel\\anaconda3\\envs\\CienciaDatos2022\\lib\\site-packages\\pandas\\core\\series.py:5623\u001b[0m, in \u001b[0;36mSeries._cmp_method\u001b[1;34m(self, other, op)\u001b[0m\n\u001b[0;32m   5620\u001b[0m rvalues \u001b[39m=\u001b[39m extract_array(other, extract_numpy\u001b[39m=\u001b[39m\u001b[39mTrue\u001b[39;00m, extract_range\u001b[39m=\u001b[39m\u001b[39mTrue\u001b[39;00m)\n\u001b[0;32m   5622\u001b[0m \u001b[39mwith\u001b[39;00m np\u001b[39m.\u001b[39merrstate(\u001b[39mall\u001b[39m\u001b[39m=\u001b[39m\u001b[39m\"\u001b[39m\u001b[39mignore\u001b[39m\u001b[39m\"\u001b[39m):\n\u001b[1;32m-> 5623\u001b[0m     res_values \u001b[39m=\u001b[39m ops\u001b[39m.\u001b[39;49mcomparison_op(lvalues, rvalues, op)\n\u001b[0;32m   5625\u001b[0m \u001b[39mreturn\u001b[39;00m \u001b[39mself\u001b[39m\u001b[39m.\u001b[39m_construct_result(res_values, name\u001b[39m=\u001b[39mres_name)\n",
      "File \u001b[1;32mc:\\Users\\Marlon Daniel\\anaconda3\\envs\\CienciaDatos2022\\lib\\site-packages\\pandas\\core\\ops\\array_ops.py:283\u001b[0m, in \u001b[0;36mcomparison_op\u001b[1;34m(left, right, op)\u001b[0m\n\u001b[0;32m    280\u001b[0m     \u001b[39mreturn\u001b[39;00m invalid_comparison(lvalues, rvalues, op)\n\u001b[0;32m    282\u001b[0m \u001b[39melif\u001b[39;00m is_object_dtype(lvalues\u001b[39m.\u001b[39mdtype) \u001b[39mor\u001b[39;00m \u001b[39misinstance\u001b[39m(rvalues, \u001b[39mstr\u001b[39m):\n\u001b[1;32m--> 283\u001b[0m     res_values \u001b[39m=\u001b[39m comp_method_OBJECT_ARRAY(op, lvalues, rvalues)\n\u001b[0;32m    285\u001b[0m \u001b[39melse\u001b[39;00m:\n\u001b[0;32m    286\u001b[0m     res_values \u001b[39m=\u001b[39m _na_arithmetic_op(lvalues, rvalues, op, is_cmp\u001b[39m=\u001b[39m\u001b[39mTrue\u001b[39;00m)\n",
      "File \u001b[1;32mc:\\Users\\Marlon Daniel\\anaconda3\\envs\\CienciaDatos2022\\lib\\site-packages\\pandas\\core\\ops\\array_ops.py:73\u001b[0m, in \u001b[0;36mcomp_method_OBJECT_ARRAY\u001b[1;34m(op, x, y)\u001b[0m\n\u001b[0;32m     71\u001b[0m     result \u001b[39m=\u001b[39m libops\u001b[39m.\u001b[39mvec_compare(x\u001b[39m.\u001b[39mravel(), y\u001b[39m.\u001b[39mravel(), op)\n\u001b[0;32m     72\u001b[0m \u001b[39melse\u001b[39;00m:\n\u001b[1;32m---> 73\u001b[0m     result \u001b[39m=\u001b[39m libops\u001b[39m.\u001b[39;49mscalar_compare(x\u001b[39m.\u001b[39;49mravel(), y, op)\n\u001b[0;32m     74\u001b[0m \u001b[39mreturn\u001b[39;00m result\u001b[39m.\u001b[39mreshape(x\u001b[39m.\u001b[39mshape)\n",
      "File \u001b[1;32mc:\\Users\\Marlon Daniel\\anaconda3\\envs\\CienciaDatos2022\\lib\\site-packages\\pandas\\_libs\\ops.pyx:107\u001b[0m, in \u001b[0;36mpandas._libs.ops.scalar_compare\u001b[1;34m()\u001b[0m\n",
      "\u001b[1;31mTypeError\u001b[0m: '>=' not supported between instances of 'str' and 'int'"
     ]
    }
   ],
   "source": [
    "nucleos_poblacion.loc[(nucleos_poblacion['Poblacion']>=1000)]"
   ]
  }
 ],
 "metadata": {
  "kernelspec": {
   "display_name": "CienciaDatos2022",
   "language": "python",
   "name": "python3"
  },
  "language_info": {
   "codemirror_mode": {
    "name": "ipython",
    "version": 3
   },
   "file_extension": ".py",
   "mimetype": "text/x-python",
   "name": "python",
   "nbconvert_exporter": "python",
   "pygments_lexer": "ipython3",
   "version": "3.10.6"
  },
  "orig_nbformat": 4
 },
 "nbformat": 4,
 "nbformat_minor": 2
}
