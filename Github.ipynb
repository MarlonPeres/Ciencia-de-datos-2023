{
 "cells": [
  {
   "cell_type": "code",
   "execution_count": 2,
   "metadata": {},
   "outputs": [
    {
     "name": "stdout",
     "output_type": "stream",
     "text": [
      "Nombre: Marlon Pérez \n",
      "Carne: 22000346\n"
     ]
    }
   ],
   "source": [
    "print(\"Nombre: Marlon Pérez \\nCarne: 22000346\")"
   ]
  },
  {
   "attachments": {},
   "cell_type": "markdown",
   "metadata": {},
   "source": [
    "#### GIT\n",
    "Es una herramienta que controla los cambios que se le realizan a las diferentes versiones de código de algún programa de desarrollo o gestión de datos con el que se puede mantener un historial completo de versiones de todos los cambios realizados a lo largo del tiempo. "
   ]
  },
  {
   "attachments": {},
   "cell_type": "markdown",
   "metadata": {},
   "source": [
    "#### GITHUB\n",
    "\n",
    "Es un portal para gestionar las aplicaciones que utiliza el sistema GIT. Esta creada principalmente para que los desarrolladores puedan subir el código de sus aplicaciones y herramientas y así también puedan ser revisadas, arregladas, mejoradas y descargadas por cualquier usuario, teniendo a su vez el historial completo de cambios en la versión del código ya que esta funciona junto con GIT lo que permite a los usuarios comparar y restaurar diversas versiones de los códigos. "
   ]
  },
  {
   "attachments": {},
   "cell_type": "markdown",
   "metadata": {},
   "source": [
    "#### Versiones de controles de GIT\n",
    "\n",
    "La version de controles es una herramienta que nos ayuda a tener controles de cambios en nuestro codigo, este tambien tiene otras ventajas como:\n",
    "\n",
    "Conocer la persona que escribio algun modulo.\n",
    "Saber en que momento se cambio alguna linea y por quien.\n",
    "En las versiones, saber en que momento dejo de funcionar utilizando unit tests.\n",
    "Esta herramienta es de gran ventaja ya que en proyectos grandes o pequeños podemos tener versiones controladas de nuestro codigo y tener un mejor control de quien esta realizando cada avance."
   ]
  },
  {
   "attachments": {},
   "cell_type": "markdown",
   "metadata": {},
   "source": [
    "#### Comandos"
   ]
  },
  {
   "attachments": {},
   "cell_type": "markdown",
   "metadata": {},
   "source": [
    "##### SNAPSHOT\n",
    "Un snapshot guarda una serie de trees (folders) y blobs (archivos) a travez del tiempo creando una secuencia lineal de snapshots. El snapshot se podria compara con copiar un folder y guardar esos cambios.\n",
    "\n",
    "##### GIT CLONE\n",
    "Clonar repositorios\n",
    "\n",
    "##### GIT PUSH\n",
    "Push nos permite subir los cambios realizados anteriormente.\n",
    "\n",
    "\n",
    "##### GIT INIT\n",
    "Creacion de un nuevo repositorio\n",
    "\n",
    "\n",
    "##### GIT branch\n",
    "Muestra los branch actuales\n",
    "\n",
    "##### GIT Merge\n",
    "Nos permite unir al current branch"
   ]
  },
  {
   "cell_type": "code",
   "execution_count": null,
   "metadata": {},
   "outputs": [],
   "source": []
  }
 ],
 "metadata": {
  "kernelspec": {
   "display_name": "CienciaDatos2022",
   "language": "python",
   "name": "python3"
  },
  "language_info": {
   "codemirror_mode": {
    "name": "ipython",
    "version": 3
   },
   "file_extension": ".py",
   "mimetype": "text/x-python",
   "name": "python",
   "nbconvert_exporter": "python",
   "pygments_lexer": "ipython3",
   "version": "3.10.6"
  },
  "orig_nbformat": 4
 },
 "nbformat": 4,
 "nbformat_minor": 2
}
