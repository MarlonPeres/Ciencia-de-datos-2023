{
 "cells": [
  {
   "attachments": {},
   "cell_type": "markdown",
   "metadata": {},
   "source": [
    "# <center>  __LABORATORIO #3-(NUMPY, PANDAS Y MATPLOTLIB)__</center>"
   ]
  },
  {
   "cell_type": "code",
   "execution_count": 1,
   "metadata": {},
   "outputs": [],
   "source": [
    "import pandas as pd \n",
    "import numpy as np"
   ]
  },
  {
   "attachments": {},
   "cell_type": "markdown",
   "metadata": {},
   "source": [
    "## _Parte 1: NUMPY:_"
   ]
  },
  {
   "attachments": {},
   "cell_type": "markdown",
   "metadata": {},
   "source": [
    "#### 1) ¿Cuàl es el tamaño en bytes de un array de 1000 elementos de tipo de booleno?"
   ]
  },
  {
   "cell_type": "code",
   "execution_count": 2,
   "metadata": {},
   "outputs": [
    {
     "name": "stdout",
     "output_type": "stream",
     "text": [
      "el tamaño del array es 1000\n"
     ]
    }
   ],
   "source": [
    "array_1 = np.zeros(1000,dtype=bool)\n",
    "tamaño = array_1.nbytes\n",
    "print(f\"el tamaño del array es {tamaño}\")"
   ]
  },
  {
   "attachments": {},
   "cell_type": "markdown",
   "metadata": {},
   "source": [
    "#### 2) Cree un array cuyos elementos sean los enteros pares en [1,100] y en orden decreciente. Muestre los 10 últimos por pantalla."
   ]
  },
  {
   "cell_type": "code",
   "execution_count": 3,
   "metadata": {},
   "outputs": [
    {
     "data": {
      "text/plain": [
       "array([18, 16, 14, 12, 10,  8,  6,  4,  2,  0])"
      ]
     },
     "execution_count": 3,
     "metadata": {},
     "output_type": "execute_result"
    }
   ],
   "source": [
    "dos = np.arange(0,1002,2)\n",
    "dos[::-1].sort()\n",
    "dos[-10:]\n"
   ]
  },
  {
   "attachments": {},
   "cell_type": "markdown",
   "metadata": {},
   "source": [
    "#### 3) Dado el array, seleccione con una instrucción el subarray de elementos 0374\n"
   ]
  },
  {
   "cell_type": "code",
   "execution_count": 4,
   "metadata": {},
   "outputs": [
    {
     "name": "stdout",
     "output_type": "stream",
     "text": [
      "[[2 4 5 6]\n",
      " [0 3 7 4]\n",
      " [8 8 5 2]\n",
      " [1 5 6 1]]\n"
     ]
    },
    {
     "data": {
      "text/plain": [
       "array([0, 3, 7, 4])"
      ]
     },
     "execution_count": 4,
     "metadata": {},
     "output_type": "execute_result"
    }
   ],
   "source": [
    "array3 = np.array([[2,4,5,6],[0,3,7,4],[8,8,5,2],[1,5,6,1]])\n",
    "print(array3)\n",
    "array3[1]"
   ]
  },
  {
   "attachments": {},
   "cell_type": "markdown",
   "metadata": {},
   "source": [
    "#### Después, seleccione el subarray de elementos"
   ]
  },
  {
   "cell_type": "code",
   "execution_count": 5,
   "metadata": {},
   "outputs": [
    {
     "name": "stdout",
     "output_type": "stream",
     "text": [
      "2,5,8,5, conviertiendolo a un arreglo[[2 5]\n",
      " [8 5]]\n"
     ]
    }
   ],
   "source": [
    "arr1 = array3[0,0]\n",
    "arr2 = array3[0,2]\n",
    "arr3 = array3[2,0]\n",
    "arr4 = array3[2,2]\n",
    "arr = np.array([[arr1,arr2],[arr3,arr4]])\n",
    "print(f\"{arr1},{arr2},{arr3},{arr4}, conviertiendolo a un arreglo{arr}\")"
   ]
  },
  {
   "attachments": {},
   "cell_type": "markdown",
   "metadata": {},
   "source": [
    "#### 4) Dados los arrays a = [1,4,2,7] y b = [1,3,2,9], obtenga la media artiméticade la diferencia de (a-b)"
   ]
  },
  {
   "cell_type": "code",
   "execution_count": 6,
   "metadata": {},
   "outputs": [
    {
     "name": "stdout",
     "output_type": "stream",
     "text": [
      "la media aritmética es : -0.25\n"
     ]
    }
   ],
   "source": [
    "a = np.array([1,4,2,7])\n",
    "b = np.array([1,3,2,9])\n",
    "c = np.average(a - b)\n",
    "print(f\"la media aritmética es : {c}\")\n"
   ]
  },
  {
   "attachments": {},
   "cell_type": "markdown",
   "metadata": {},
   "source": [
    "#### 5) Tengo valores de cordenadas (x,y) en las columnas del array 1.33 4.5 30.0 10.7 70.2 0.5"
   ]
  },
  {
   "attachments": {},
   "cell_type": "markdown",
   "metadata": {},
   "source": [
    "#### Agregue a este array las coordenadas (37.1, -3.6)"
   ]
  },
  {
   "cell_type": "code",
   "execution_count": 7,
   "metadata": {},
   "outputs": [
    {
     "data": {
      "text/plain": [
       "array([[ 1.33,  4.5 ],\n",
       "       [30.  , 10.7 ],\n",
       "       [70.2 ,  0.5 ]])"
      ]
     },
     "execution_count": 7,
     "metadata": {},
     "output_type": "execute_result"
    }
   ],
   "source": [
    "cinco = np.array([[1.33,4.5],[30.0,10.7],[70.2,0.5]])\n",
    "cinco"
   ]
  },
  {
   "cell_type": "code",
   "execution_count": 8,
   "metadata": {},
   "outputs": [
    {
     "data": {
      "text/plain": [
       "array([[ 1.33,  4.5 ],\n",
       "       [30.  , 10.7 ],\n",
       "       [70.2 ,  0.5 ],\n",
       "       [37.1 , -3.5 ]])"
      ]
     },
     "execution_count": 8,
     "metadata": {},
     "output_type": "execute_result"
    }
   ],
   "source": [
    "respuesta5 = np.append(cinco,np.array([[37.1,-3.5]]),axis=0)\n",
    "respuesta5"
   ]
  },
  {
   "attachments": {},
   "cell_type": "markdown",
   "metadata": {},
   "source": [
    "#### 6) Copie el array del ejercicio anterior. Traspóngalo, agregue ahora dos nuevos pares de coordenadas: (10.8,3.0) y (35.8,12.0)"
   ]
  },
  {
   "cell_type": "code",
   "execution_count": 9,
   "metadata": {},
   "outputs": [
    {
     "data": {
      "text/plain": [
       "array([[ 1.33, 30.  , 70.2 , 37.1 , 10.8 ,  3.  ],\n",
       "       [ 4.5 , 10.7 ,  0.5 , -3.5 , 35.8 , 12.  ]])"
      ]
     },
     "execution_count": 9,
     "metadata": {},
     "output_type": "execute_result"
    }
   ],
   "source": [
    "respuesta_5 = respuesta5.transpose()\n",
    "respuesta_5\n",
    "respuesta_6 = np.append(respuesta_5, np.array([[10.8,3.0],[35.8,12.0]]),axis = 1)\n",
    "respuesta_6"
   ]
  },
  {
   "attachments": {},
   "cell_type": "markdown",
   "metadata": {},
   "source": [
    "## _Parte 2: EXPLORACION Y MINERIA DE DATOS_"
   ]
  },
  {
   "cell_type": "code",
   "execution_count": 10,
   "metadata": {},
   "outputs": [
    {
     "data": {
      "text/plain": [
       "array([['FID', 'OBJECTID', 'Texto', ..., 'Provincia', 'X', 'Y'],\n",
       "       ['0', '1', 'Agüimes', ..., 'Las Palmas', '-15.446012264',\n",
       "        '27.9005418852'],\n",
       "       ['1', '2', 'Antigua', ..., 'Las Palmas', '-14.01330083',\n",
       "        '28.4189662242'],\n",
       "       ...,\n",
       "       ['849', '850', 'Vista Alegre', ..., 'Murcia', '-1.130563853',\n",
       "        '37.9957145751'],\n",
       "       ['850', '851', 'Poligono Sta M de Benquerencia', ..., 'Toledo',\n",
       "        '-3.948363664', '39.8666989761'],\n",
       "       ['851', '852', 'Grao', ..., 'Castelló/Castellón', '0.012911354',\n",
       "        '39.9735678251']], dtype='<U47')"
      ]
     },
     "execution_count": 10,
     "metadata": {},
     "output_type": "execute_result"
    }
   ],
   "source": [
    "nucleos = np.loadtxt('NucleosPoblacion.csv',delimiter=\",\",dtype=str)\n",
    "nucleos"
   ]
  },
  {
   "cell_type": "code",
   "execution_count": 11,
   "metadata": {},
   "outputs": [],
   "source": [
    "nucleos_poblacion = pd.DataFrame(nucleos)\n"
   ]
  },
  {
   "cell_type": "code",
   "execution_count": 12,
   "metadata": {},
   "outputs": [],
   "source": [
    "nucleos_poblacion.columns = nucleos_poblacion.iloc[0]\n"
   ]
  },
  {
   "cell_type": "code",
   "execution_count": 13,
   "metadata": {},
   "outputs": [],
   "source": [
    "nucleos_poblacion.drop(0,axis = 0, inplace = True)\n",
    "\n",
    "\n"
   ]
  },
  {
   "cell_type": "code",
   "execution_count": 14,
   "metadata": {},
   "outputs": [
    {
     "data": {
      "text/plain": [
       "0\n",
       "FID          object\n",
       "OBJECTID     object\n",
       "Texto        object\n",
       "Poblacion    object\n",
       "CodMun       object\n",
       "Municipio    object\n",
       "CodProvin    object\n",
       "Provincia    object\n",
       "X            object\n",
       "Y            object\n",
       "dtype: object"
      ]
     },
     "execution_count": 14,
     "metadata": {},
     "output_type": "execute_result"
    }
   ],
   "source": [
    "nucleos_poblacion.dtypes"
   ]
  },
  {
   "cell_type": "code",
   "execution_count": 15,
   "metadata": {},
   "outputs": [
    {
     "data": {
      "text/html": [
       "<div>\n",
       "<style scoped>\n",
       "    .dataframe tbody tr th:only-of-type {\n",
       "        vertical-align: middle;\n",
       "    }\n",
       "\n",
       "    .dataframe tbody tr th {\n",
       "        vertical-align: top;\n",
       "    }\n",
       "\n",
       "    .dataframe thead th {\n",
       "        text-align: right;\n",
       "    }\n",
       "</style>\n",
       "<table border=\"1\" class=\"dataframe\">\n",
       "  <thead>\n",
       "    <tr style=\"text-align: right;\">\n",
       "      <th></th>\n",
       "      <th>FID</th>\n",
       "      <th>OBJECTID</th>\n",
       "      <th>Texto</th>\n",
       "      <th>Poblacion</th>\n",
       "      <th>CodMun</th>\n",
       "      <th>Municipio</th>\n",
       "      <th>CodProvin</th>\n",
       "      <th>Provincia</th>\n",
       "      <th>X</th>\n",
       "      <th>Y</th>\n",
       "    </tr>\n",
       "  </thead>\n",
       "  <tbody>\n",
       "    <tr>\n",
       "      <th>1</th>\n",
       "      <td>0</td>\n",
       "      <td>1</td>\n",
       "      <td>Agüimes</td>\n",
       "      <td>29431.0</td>\n",
       "      <td>35002</td>\n",
       "      <td>Agüimes</td>\n",
       "      <td>35</td>\n",
       "      <td>Las Palmas</td>\n",
       "      <td>-15.446012264</td>\n",
       "      <td>27.9005418852</td>\n",
       "    </tr>\n",
       "    <tr>\n",
       "      <th>2</th>\n",
       "      <td>1</td>\n",
       "      <td>2</td>\n",
       "      <td>Antigua</td>\n",
       "      <td>10458.0</td>\n",
       "      <td>35003</td>\n",
       "      <td>Antigua</td>\n",
       "      <td>35</td>\n",
       "      <td>Las Palmas</td>\n",
       "      <td>-14.01330083</td>\n",
       "      <td>28.4189662242</td>\n",
       "    </tr>\n",
       "    <tr>\n",
       "      <th>3</th>\n",
       "      <td>2</td>\n",
       "      <td>3</td>\n",
       "      <td>Arrecife</td>\n",
       "      <td>58156.0</td>\n",
       "      <td>35004</td>\n",
       "      <td>Arrecife</td>\n",
       "      <td>35</td>\n",
       "      <td>Las Palmas</td>\n",
       "      <td>-13.551451235</td>\n",
       "      <td>28.9606494152</td>\n",
       "    </tr>\n",
       "    <tr>\n",
       "      <th>4</th>\n",
       "      <td>3</td>\n",
       "      <td>4</td>\n",
       "      <td>Arucas</td>\n",
       "      <td>36745.0</td>\n",
       "      <td>35006</td>\n",
       "      <td>Arucas</td>\n",
       "      <td>35</td>\n",
       "      <td>Las Palmas</td>\n",
       "      <td>-15.521511534</td>\n",
       "      <td>28.1174962002</td>\n",
       "    </tr>\n",
       "    <tr>\n",
       "      <th>5</th>\n",
       "      <td>4</td>\n",
       "      <td>5</td>\n",
       "      <td>Gáldar</td>\n",
       "      <td>24473.0</td>\n",
       "      <td>35009</td>\n",
       "      <td>Gáldar</td>\n",
       "      <td>35</td>\n",
       "      <td>Las Palmas</td>\n",
       "      <td>-15.654110983</td>\n",
       "      <td>28.1438727542</td>\n",
       "    </tr>\n",
       "    <tr>\n",
       "      <th>...</th>\n",
       "      <td>...</td>\n",
       "      <td>...</td>\n",
       "      <td>...</td>\n",
       "      <td>...</td>\n",
       "      <td>...</td>\n",
       "      <td>...</td>\n",
       "      <td>...</td>\n",
       "      <td>...</td>\n",
       "      <td>...</td>\n",
       "      <td>...</td>\n",
       "    </tr>\n",
       "    <tr>\n",
       "      <th>848</th>\n",
       "      <td>847</td>\n",
       "      <td>848</td>\n",
       "      <td>Infante Juan Manuel</td>\n",
       "      <td>14192.0</td>\n",
       "      <td>30030</td>\n",
       "      <td>Murcia</td>\n",
       "      <td>30</td>\n",
       "      <td>Murcia</td>\n",
       "      <td>-1.124304406</td>\n",
       "      <td>37.9790332151</td>\n",
       "    </tr>\n",
       "    <tr>\n",
       "      <th>849</th>\n",
       "      <td>848</td>\n",
       "      <td>849</td>\n",
       "      <td>Santa Maria de Gracia</td>\n",
       "      <td>13349.0</td>\n",
       "      <td>30030</td>\n",
       "      <td>Murcia</td>\n",
       "      <td>30</td>\n",
       "      <td>Murcia</td>\n",
       "      <td>-1.202068979</td>\n",
       "      <td>37.9840238301</td>\n",
       "    </tr>\n",
       "    <tr>\n",
       "      <th>850</th>\n",
       "      <td>849</td>\n",
       "      <td>850</td>\n",
       "      <td>Vista Alegre</td>\n",
       "      <td>15208.0</td>\n",
       "      <td>30030</td>\n",
       "      <td>Murcia</td>\n",
       "      <td>30</td>\n",
       "      <td>Murcia</td>\n",
       "      <td>-1.130563853</td>\n",
       "      <td>37.9957145751</td>\n",
       "    </tr>\n",
       "    <tr>\n",
       "      <th>851</th>\n",
       "      <td>850</td>\n",
       "      <td>851</td>\n",
       "      <td>Poligono Sta M de Benquerencia</td>\n",
       "      <td>19177.0</td>\n",
       "      <td>45168</td>\n",
       "      <td>Toledo</td>\n",
       "      <td>45</td>\n",
       "      <td>Toledo</td>\n",
       "      <td>-3.948363664</td>\n",
       "      <td>39.8666989761</td>\n",
       "    </tr>\n",
       "    <tr>\n",
       "      <th>852</th>\n",
       "      <td>851</td>\n",
       "      <td>852</td>\n",
       "      <td>Grao</td>\n",
       "      <td>16367.0</td>\n",
       "      <td>12040</td>\n",
       "      <td>Castellón de la Plana/Castelló de la Plana</td>\n",
       "      <td>12</td>\n",
       "      <td>Castelló/Castellón</td>\n",
       "      <td>0.012911354</td>\n",
       "      <td>39.9735678251</td>\n",
       "    </tr>\n",
       "  </tbody>\n",
       "</table>\n",
       "<p>852 rows × 10 columns</p>\n",
       "</div>"
      ],
      "text/plain": [
       "0    FID OBJECTID                           Texto Poblacion CodMun  \\\n",
       "1      0        1                         Agüimes   29431.0  35002   \n",
       "2      1        2                         Antigua   10458.0  35003   \n",
       "3      2        3                        Arrecife   58156.0  35004   \n",
       "4      3        4                          Arucas   36745.0  35006   \n",
       "5      4        5                          Gáldar   24473.0  35009   \n",
       "..   ...      ...                             ...       ...    ...   \n",
       "848  847      848             Infante Juan Manuel   14192.0  30030   \n",
       "849  848      849           Santa Maria de Gracia   13349.0  30030   \n",
       "850  849      850                    Vista Alegre   15208.0  30030   \n",
       "851  850      851  Poligono Sta M de Benquerencia   19177.0  45168   \n",
       "852  851      852                            Grao   16367.0  12040   \n",
       "\n",
       "0                                     Municipio CodProvin           Provincia  \\\n",
       "1                                       Agüimes        35          Las Palmas   \n",
       "2                                       Antigua        35          Las Palmas   \n",
       "3                                      Arrecife        35          Las Palmas   \n",
       "4                                        Arucas        35          Las Palmas   \n",
       "5                                        Gáldar        35          Las Palmas   \n",
       "..                                          ...       ...                 ...   \n",
       "848                                      Murcia        30              Murcia   \n",
       "849                                      Murcia        30              Murcia   \n",
       "850                                      Murcia        30              Murcia   \n",
       "851                                      Toledo        45              Toledo   \n",
       "852  Castellón de la Plana/Castelló de la Plana        12  Castelló/Castellón   \n",
       "\n",
       "0                X              Y  \n",
       "1    -15.446012264  27.9005418852  \n",
       "2     -14.01330083  28.4189662242  \n",
       "3    -13.551451235  28.9606494152  \n",
       "4    -15.521511534  28.1174962002  \n",
       "5    -15.654110983  28.1438727542  \n",
       "..             ...            ...  \n",
       "848   -1.124304406  37.9790332151  \n",
       "849   -1.202068979  37.9840238301  \n",
       "850   -1.130563853  37.9957145751  \n",
       "851   -3.948363664  39.8666989761  \n",
       "852    0.012911354  39.9735678251  \n",
       "\n",
       "[852 rows x 10 columns]"
      ]
     },
     "execution_count": 15,
     "metadata": {},
     "output_type": "execute_result"
    }
   ],
   "source": [
    "nucleos_poblacion"
   ]
  },
  {
   "cell_type": "code",
   "execution_count": 16,
   "metadata": {},
   "outputs": [],
   "source": [
    "nucleos_poblacion['Poblacion'] = nucleos_poblacion['Poblacion'].astype('float64')\n",
    "nucleos_poblacion['X'] = nucleos_poblacion['X'].astype('float64')\n",
    "nucleos_poblacion['Y'] = nucleos_poblacion['Y'].astype('float64')"
   ]
  },
  {
   "cell_type": "code",
   "execution_count": 17,
   "metadata": {},
   "outputs": [
    {
     "data": {
      "text/plain": [
       "0\n",
       "FID           object\n",
       "OBJECTID      object\n",
       "Texto         object\n",
       "Poblacion    float64\n",
       "CodMun        object\n",
       "Municipio     object\n",
       "CodProvin     object\n",
       "Provincia     object\n",
       "X            float64\n",
       "Y            float64\n",
       "dtype: object"
      ]
     },
     "execution_count": 17,
     "metadata": {},
     "output_type": "execute_result"
    }
   ],
   "source": [
    "nucleos_poblacion.dtypes"
   ]
  },
  {
   "attachments": {},
   "cell_type": "markdown",
   "metadata": {},
   "source": [
    "## 1. ¿Cuántos Municipios tiemen mas de 100000 habitantes?"
   ]
  },
  {
   "cell_type": "code",
   "execution_count": 18,
   "metadata": {},
   "outputs": [
    {
     "name": "stdout",
     "output_type": "stream",
     "text": [
      "Existen 62 municipios con poblacion por arriba de 100000\n"
     ]
    }
   ],
   "source": [
    "pob_eje_1 = nucleos_poblacion[['Poblacion','Municipio']]\n",
    "pob_eje_1 = pob_eje_1[pob_eje_1.Poblacion > 100000]\n",
    "pob_eje_1 = len(pd.unique(pob_eje_1['Municipio']))\n",
    "print(f\"Existen {pob_eje_1} municipios con poblacion por arriba de 100000\")\n",
    "\n"
   ]
  },
  {
   "attachments": {},
   "cell_type": "markdown",
   "metadata": {},
   "source": [
    "## 2. Realice una gráfica de barras  sobre la población de cada ciudad, ordenela de menor a mayor y responda:\n",
    "\n",
    "### a. ¿Cuál es la segunda ciudad más poblada?\n",
    "### b. ¿Qué posición ocupada Granada en el ranking de las ciudades más pobladas?"
   ]
  },
  {
   "cell_type": "code",
   "execution_count": 19,
   "metadata": {},
   "outputs": [
    {
     "data": {
      "text/html": [
       "<div>\n",
       "<style scoped>\n",
       "    .dataframe tbody tr th:only-of-type {\n",
       "        vertical-align: middle;\n",
       "    }\n",
       "\n",
       "    .dataframe tbody tr th {\n",
       "        vertical-align: top;\n",
       "    }\n",
       "\n",
       "    .dataframe thead th {\n",
       "        text-align: right;\n",
       "    }\n",
       "</style>\n",
       "<table border=\"1\" class=\"dataframe\">\n",
       "  <thead>\n",
       "    <tr style=\"text-align: right;\">\n",
       "      <th></th>\n",
       "      <th>Poblacion</th>\n",
       "    </tr>\n",
       "    <tr>\n",
       "      <th>Municipio</th>\n",
       "      <th></th>\n",
       "    </tr>\n",
       "  </thead>\n",
       "  <tbody>\n",
       "    <tr>\n",
       "      <th>Zumarraga</th>\n",
       "      <td>10037.0</td>\n",
       "    </tr>\n",
       "    <tr>\n",
       "      <th>Caldas de Reis</th>\n",
       "      <td>10045.0</td>\n",
       "    </tr>\n",
       "    <tr>\n",
       "      <th>Amurrio</th>\n",
       "      <td>10050.0</td>\n",
       "    </tr>\n",
       "    <tr>\n",
       "      <th>Premià de Dalt</th>\n",
       "      <td>10064.0</td>\n",
       "    </tr>\n",
       "    <tr>\n",
       "      <th>Buñol</th>\n",
       "      <td>10077.0</td>\n",
       "    </tr>\n",
       "    <tr>\n",
       "      <th>Bembibre</th>\n",
       "      <td>10097.0</td>\n",
       "    </tr>\n",
       "    <tr>\n",
       "      <th>Ocaña</th>\n",
       "      <td>10098.0</td>\n",
       "    </tr>\n",
       "    <tr>\n",
       "      <th>Sax</th>\n",
       "      <td>10099.0</td>\n",
       "    </tr>\n",
       "    <tr>\n",
       "      <th>San Fulgencio</th>\n",
       "      <td>10196.0</td>\n",
       "    </tr>\n",
       "    <tr>\n",
       "      <th>San Bartolomé</th>\n",
       "      <td>10220.0</td>\n",
       "    </tr>\n",
       "    <tr>\n",
       "      <th>Llucmajor</th>\n",
       "      <td>10242.0</td>\n",
       "    </tr>\n",
       "    <tr>\n",
       "      <th>Xinzo de Limia</th>\n",
       "      <td>10245.0</td>\n",
       "    </tr>\n",
       "    <tr>\n",
       "      <th>Sanlúcar de Barrameda</th>\n",
       "      <td>10260.0</td>\n",
       "    </tr>\n",
       "    <tr>\n",
       "      <th>Reinosa</th>\n",
       "      <td>10277.0</td>\n",
       "    </tr>\n",
       "    <tr>\n",
       "      <th>La Roca del Vallès</th>\n",
       "      <td>10291.0</td>\n",
       "    </tr>\n",
       "    <tr>\n",
       "      <th>Sant Andreu de Llavaneres</th>\n",
       "      <td>10303.0</td>\n",
       "    </tr>\n",
       "    <tr>\n",
       "      <th>Miajadas</th>\n",
       "      <td>10323.0</td>\n",
       "    </tr>\n",
       "    <tr>\n",
       "      <th>Sabiñánigo</th>\n",
       "      <td>10383.0</td>\n",
       "    </tr>\n",
       "    <tr>\n",
       "      <th>Illora</th>\n",
       "      <td>10386.0</td>\n",
       "    </tr>\n",
       "    <tr>\n",
       "      <th>L'Escala</th>\n",
       "      <td>10387.0</td>\n",
       "    </tr>\n",
       "  </tbody>\n",
       "</table>\n",
       "</div>"
      ],
      "text/plain": [
       "0                          Poblacion\n",
       "Municipio                           \n",
       "Zumarraga                    10037.0\n",
       "Caldas de Reis               10045.0\n",
       "Amurrio                      10050.0\n",
       "Premià de Dalt               10064.0\n",
       "Buñol                        10077.0\n",
       "Bembibre                     10097.0\n",
       "Ocaña                        10098.0\n",
       "Sax                          10099.0\n",
       "San Fulgencio                10196.0\n",
       "San Bartolomé                10220.0\n",
       "Llucmajor                    10242.0\n",
       "Xinzo de Limia               10245.0\n",
       "Sanlúcar de Barrameda        10260.0\n",
       "Reinosa                      10277.0\n",
       "La Roca del Vallès           10291.0\n",
       "Sant Andreu de Llavaneres    10303.0\n",
       "Miajadas                     10323.0\n",
       "Sabiñánigo                   10383.0\n",
       "Illora                       10386.0\n",
       "L'Escala                     10387.0"
      ]
     },
     "execution_count": 19,
     "metadata": {},
     "output_type": "execute_result"
    }
   ],
   "source": [
    "pob_eje_2 = nucleos_poblacion[['Poblacion','Municipio']]\n",
    "pob_eje_2 = pob_eje_2.sort_values('Poblacion', ascending=True).head(20)\n",
    "pob_eje_2.set_index('Municipio', inplace=True)\n",
    "pob_eje_2"
   ]
  },
  {
   "cell_type": "code",
   "execution_count": 20,
   "metadata": {},
   "outputs": [],
   "source": [
    "import matplotlib.pyplot as plt"
   ]
  },
  {
   "attachments": {},
   "cell_type": "markdown",
   "metadata": {},
   "source": [
    "### GRÁFICA DE BARRAS DE POBLACION DE CADA CIUDAD, ORDEN DE MENOR A MAYOR"
   ]
  },
  {
   "cell_type": "code",
   "execution_count": 21,
   "metadata": {},
   "outputs": [
    {
     "data": {
      "image/png": "[encoded data removed]",
      "text/plain": [
       "<Figure size 1000x1000 with 1 Axes>"
      ]
     },
     "metadata": {},
     "output_type": "display_data"
    }
   ],
   "source": [
    "pob_eje_2.plot(kind = 'bar', width = 0.8, figsize = (10,10));"
   ]
  },
  {
   "cell_type": "code",
   "execution_count": 22,
   "metadata": {},
   "outputs": [
    {
     "data": {
      "text/html": [
       "<div>\n",
       "<style scoped>\n",
       "    .dataframe tbody tr th:only-of-type {\n",
       "        vertical-align: middle;\n",
       "    }\n",
       "\n",
       "    .dataframe tbody tr th {\n",
       "        vertical-align: top;\n",
       "    }\n",
       "\n",
       "    .dataframe thead th {\n",
       "        text-align: right;\n",
       "    }\n",
       "</style>\n",
       "<table border=\"1\" class=\"dataframe\">\n",
       "  <thead>\n",
       "    <tr style=\"text-align: right;\">\n",
       "      <th></th>\n",
       "      <th>Municipio</th>\n",
       "      <th>Poblacion</th>\n",
       "    </tr>\n",
       "  </thead>\n",
       "  <tbody>\n",
       "    <tr>\n",
       "      <th>356</th>\n",
       "      <td>Madrid</td>\n",
       "      <td>3273049.0</td>\n",
       "    </tr>\n",
       "    <tr>\n",
       "      <th>624</th>\n",
       "      <td>Barcelona</td>\n",
       "      <td>1619337.0</td>\n",
       "    </tr>\n",
       "    <tr>\n",
       "      <th>562</th>\n",
       "      <td>Valencia</td>\n",
       "      <td>809267.0</td>\n",
       "    </tr>\n",
       "    <tr>\n",
       "      <th>493</th>\n",
       "      <td>Sevilla</td>\n",
       "      <td>704198.0</td>\n",
       "    </tr>\n",
       "    <tr>\n",
       "      <th>592</th>\n",
       "      <td>Zaragoza</td>\n",
       "      <td>675121.0</td>\n",
       "    </tr>\n",
       "  </tbody>\n",
       "</table>\n",
       "</div>"
      ],
      "text/plain": [
       "0    Municipio  Poblacion\n",
       "356     Madrid  3273049.0\n",
       "624  Barcelona  1619337.0\n",
       "562   Valencia   809267.0\n",
       "493    Sevilla   704198.0\n",
       "592   Zaragoza   675121.0"
      ]
     },
     "execution_count": 22,
     "metadata": {},
     "output_type": "execute_result"
    }
   ],
   "source": [
    "#pob_eje_2.sort_values('Poblacion',ascending = False)\n",
    "nucleos_poblacion[['Municipio','Poblacion']].sort_values('Poblacion',ascending=False).head(5)"
   ]
  },
  {
   "attachments": {},
   "cell_type": "markdown",
   "metadata": {},
   "source": [
    "### a. La segunda ciudad más poblada es Barcelona con 1,619,337 habitantes"
   ]
  },
  {
   "cell_type": "code",
   "execution_count": 23,
   "metadata": {},
   "outputs": [
    {
     "data": {
      "text/html": [
       "<div>\n",
       "<style scoped>\n",
       "    .dataframe tbody tr th:only-of-type {\n",
       "        vertical-align: middle;\n",
       "    }\n",
       "\n",
       "    .dataframe tbody tr th {\n",
       "        vertical-align: top;\n",
       "    }\n",
       "\n",
       "    .dataframe thead th {\n",
       "        text-align: right;\n",
       "    }\n",
       "</style>\n",
       "<table border=\"1\" class=\"dataframe\">\n",
       "  <thead>\n",
       "    <tr style=\"text-align: right;\">\n",
       "      <th></th>\n",
       "      <th>Municipio</th>\n",
       "      <th>Poblacion</th>\n",
       "    </tr>\n",
       "  </thead>\n",
       "  <tbody>\n",
       "    <tr>\n",
       "      <th>273</th>\n",
       "      <td>Granada</td>\n",
       "      <td>239154.0</td>\n",
       "    </tr>\n",
       "  </tbody>\n",
       "</table>\n",
       "</div>"
      ],
      "text/plain": [
       "0   Municipio  Poblacion\n",
       "273   Granada   239154.0"
      ]
     },
     "execution_count": 23,
     "metadata": {},
     "output_type": "execute_result"
    }
   ],
   "source": [
    "encontrar_granada = nucleos_poblacion[['Municipio','Poblacion']].sort_values('Poblacion',ascending=False)\n",
    "posicion_granada = encontrar_granada[encontrar_granada['Municipio']=='Granada']\n",
    "posicion_granada"
   ]
  },
  {
   "attachments": {},
   "cell_type": "markdown",
   "metadata": {},
   "source": [
    "### b. Granada se encuentra en la posicion 273 de los mas poblados con 239,154 habitantes"
   ]
  },
  {
   "attachments": {},
   "cell_type": "markdown",
   "metadata": {},
   "source": [
    "## 3. ¿Cuántos municipios de Extremadura tienen más de 5000 habitantes?"
   ]
  },
  {
   "cell_type": "code",
   "execution_count": 24,
   "metadata": {},
   "outputs": [
    {
     "data": {
      "text/html": [
       "<div>\n",
       "<style scoped>\n",
       "    .dataframe tbody tr th:only-of-type {\n",
       "        vertical-align: middle;\n",
       "    }\n",
       "\n",
       "    .dataframe tbody tr th {\n",
       "        vertical-align: top;\n",
       "    }\n",
       "\n",
       "    .dataframe thead th {\n",
       "        text-align: right;\n",
       "    }\n",
       "</style>\n",
       "<table border=\"1\" class=\"dataframe\">\n",
       "  <thead>\n",
       "    <tr style=\"text-align: right;\">\n",
       "      <th></th>\n",
       "      <th>FID</th>\n",
       "      <th>OBJECTID</th>\n",
       "      <th>Texto</th>\n",
       "      <th>Poblacion</th>\n",
       "      <th>CodMun</th>\n",
       "      <th>Municipio</th>\n",
       "      <th>CodProvin</th>\n",
       "      <th>Provincia</th>\n",
       "      <th>X</th>\n",
       "      <th>Y</th>\n",
       "    </tr>\n",
       "  </thead>\n",
       "  <tbody>\n",
       "  </tbody>\n",
       "</table>\n",
       "</div>"
      ],
      "text/plain": [
       "Empty DataFrame\n",
       "Columns: [FID, OBJECTID, Texto, Poblacion, CodMun, Municipio, CodProvin, Provincia, X, Y]\n",
       "Index: []"
      ]
     },
     "execution_count": 24,
     "metadata": {},
     "output_type": "execute_result"
    }
   ],
   "source": [
    "extremadura = nucleos_poblacion[nucleos_poblacion.isin(['Extremadura']).any(axis=1)]\n",
    "extremadura"
   ]
  },
  {
   "attachments": {},
   "cell_type": "markdown",
   "metadata": {},
   "source": [
    "### No existe extremadura"
   ]
  },
  {
   "attachments": {},
   "cell_type": "markdown",
   "metadata": {},
   "source": [
    "## 4. ¿Cuál es el municipio situado más al Norte?"
   ]
  },
  {
   "cell_type": "code",
   "execution_count": 25,
   "metadata": {},
   "outputs": [
    {
     "data": {
      "text/html": [
       "<div>\n",
       "<style scoped>\n",
       "    .dataframe tbody tr th:only-of-type {\n",
       "        vertical-align: middle;\n",
       "    }\n",
       "\n",
       "    .dataframe tbody tr th {\n",
       "        vertical-align: top;\n",
       "    }\n",
       "\n",
       "    .dataframe thead th {\n",
       "        text-align: right;\n",
       "    }\n",
       "</style>\n",
       "<table border=\"1\" class=\"dataframe\">\n",
       "  <thead>\n",
       "    <tr style=\"text-align: right;\">\n",
       "      <th></th>\n",
       "      <th>Municipio</th>\n",
       "      <th>Poblacion</th>\n",
       "      <th>Provincia</th>\n",
       "      <th>Y</th>\n",
       "    </tr>\n",
       "  </thead>\n",
       "  <tbody>\n",
       "    <tr>\n",
       "      <th>105</th>\n",
       "      <td>Viveiro</td>\n",
       "      <td>16211.0</td>\n",
       "      <td>Lugo</td>\n",
       "      <td>43.625578</td>\n",
       "    </tr>\n",
       "  </tbody>\n",
       "</table>\n",
       "</div>"
      ],
      "text/plain": [
       "0   Municipio  Poblacion Provincia          Y\n",
       "105   Viveiro    16211.0      Lugo  43.625578"
      ]
     },
     "execution_count": 25,
     "metadata": {},
     "output_type": "execute_result"
    }
   ],
   "source": [
    "municipio_al_norte = nucleos_poblacion[['Municipio','Poblacion','Provincia','Y',]]\n",
    "municipio_al_norte.sort_values('Y', ascending=False).head(1)"
   ]
  },
  {
   "attachments": {},
   "cell_type": "markdown",
   "metadata": {},
   "source": [
    "### El municipio que se encuentra más al norte es Viveiro,pertenece a la provincia Lugo y su poblacion es 16,211 habitantes"
   ]
  },
  {
   "attachments": {},
   "cell_type": "markdown",
   "metadata": {},
   "source": [
    "## 5. Obtenga la media, mediana, desviación estándar, valor máximo y valor mínimo de la población de los municipios de la provincia de Granada"
   ]
  },
  {
   "cell_type": "code",
   "execution_count": 26,
   "metadata": {},
   "outputs": [
    {
     "data": {
      "text/html": [
       "<div>\n",
       "<style scoped>\n",
       "    .dataframe tbody tr th:only-of-type {\n",
       "        vertical-align: middle;\n",
       "    }\n",
       "\n",
       "    .dataframe tbody tr th {\n",
       "        vertical-align: top;\n",
       "    }\n",
       "\n",
       "    .dataframe thead th {\n",
       "        text-align: right;\n",
       "    }\n",
       "</style>\n",
       "<table border=\"1\" class=\"dataframe\">\n",
       "  <thead>\n",
       "    <tr style=\"text-align: right;\">\n",
       "      <th></th>\n",
       "      <th>Poblacion</th>\n",
       "    </tr>\n",
       "  </thead>\n",
       "  <tbody>\n",
       "    <tr>\n",
       "      <th>count</th>\n",
       "      <td>20.000000</td>\n",
       "    </tr>\n",
       "    <tr>\n",
       "      <th>mean</th>\n",
       "      <td>30217.850000</td>\n",
       "    </tr>\n",
       "    <tr>\n",
       "      <th>std</th>\n",
       "      <td>50355.491715</td>\n",
       "    </tr>\n",
       "    <tr>\n",
       "      <th>min</th>\n",
       "      <td>10386.000000</td>\n",
       "    </tr>\n",
       "    <tr>\n",
       "      <th>25%</th>\n",
       "      <td>13146.500000</td>\n",
       "    </tr>\n",
       "    <tr>\n",
       "      <th>50%</th>\n",
       "      <td>17526.000000</td>\n",
       "    </tr>\n",
       "    <tr>\n",
       "      <th>75%</th>\n",
       "      <td>21739.750000</td>\n",
       "    </tr>\n",
       "    <tr>\n",
       "      <th>max</th>\n",
       "      <td>239154.000000</td>\n",
       "    </tr>\n",
       "  </tbody>\n",
       "</table>\n",
       "</div>"
      ],
      "text/plain": [
       "0          Poblacion\n",
       "count      20.000000\n",
       "mean    30217.850000\n",
       "std     50355.491715\n",
       "min     10386.000000\n",
       "25%     13146.500000\n",
       "50%     17526.000000\n",
       "75%     21739.750000\n",
       "max    239154.000000"
      ]
     },
     "execution_count": 26,
     "metadata": {},
     "output_type": "execute_result"
    }
   ],
   "source": [
    "granada = nucleos_poblacion[['Provincia','Municipio','Poblacion']]\n",
    "granada = granada[granada['Provincia']=='Granada']\n",
    "granada.describe()"
   ]
  },
  {
   "attachments": {},
   "cell_type": "markdown",
   "metadata": {},
   "source": [
    "## 6. Realice un histograma con la población de los Municipios para cada una de las provincias"
   ]
  },
  {
   "cell_type": "code",
   "execution_count": 27,
   "metadata": {},
   "outputs": [
    {
     "name": "stdout",
     "output_type": "stream",
     "text": [
      "tenemos 52 provincias diferentes en el conjunto de datos\n"
     ]
    }
   ],
   "source": [
    "graficas = nucleos_poblacion[['Provincia','Municipio','Poblacion']]\n",
    "provincias= graficas['Provincia'].unique()\n",
    "print(f\"tenemos {len(provincias)} provincias diferentes en el conjunto de datos\")"
   ]
  },
  {
   "cell_type": "code",
   "execution_count": 51,
   "metadata": {},
   "outputs": [
    {
     "data": {
      "text/html": [
       "<div>\n",
       "<style scoped>\n",
       "    .dataframe tbody tr th:only-of-type {\n",
       "        vertical-align: middle;\n",
       "    }\n",
       "\n",
       "    .dataframe tbody tr th {\n",
       "        vertical-align: top;\n",
       "    }\n",
       "\n",
       "    .dataframe thead th {\n",
       "        text-align: right;\n",
       "    }\n",
       "</style>\n",
       "<table border=\"1\" class=\"dataframe\">\n",
       "  <thead>\n",
       "    <tr style=\"text-align: right;\">\n",
       "      <th></th>\n",
       "      <th>Provincia</th>\n",
       "      <th>Municipio</th>\n",
       "      <th>Poblacion</th>\n",
       "    </tr>\n",
       "  </thead>\n",
       "  <tbody>\n",
       "    <tr>\n",
       "      <th>1</th>\n",
       "      <td>Las Palmas</td>\n",
       "      <td>Agüimes</td>\n",
       "      <td>29431.0</td>\n",
       "    </tr>\n",
       "    <tr>\n",
       "      <th>2</th>\n",
       "      <td>Las Palmas</td>\n",
       "      <td>Antigua</td>\n",
       "      <td>10458.0</td>\n",
       "    </tr>\n",
       "    <tr>\n",
       "      <th>3</th>\n",
       "      <td>Las Palmas</td>\n",
       "      <td>Arrecife</td>\n",
       "      <td>58156.0</td>\n",
       "    </tr>\n",
       "    <tr>\n",
       "      <th>4</th>\n",
       "      <td>Las Palmas</td>\n",
       "      <td>Arucas</td>\n",
       "      <td>36745.0</td>\n",
       "    </tr>\n",
       "    <tr>\n",
       "      <th>5</th>\n",
       "      <td>Las Palmas</td>\n",
       "      <td>Gáldar</td>\n",
       "      <td>24473.0</td>\n",
       "    </tr>\n",
       "  </tbody>\n",
       "</table>\n",
       "</div>"
      ],
      "text/plain": [
       "0   Provincia Municipio  Poblacion\n",
       "1  Las Palmas   Agüimes    29431.0\n",
       "2  Las Palmas   Antigua    10458.0\n",
       "3  Las Palmas  Arrecife    58156.0\n",
       "4  Las Palmas    Arucas    36745.0\n",
       "5  Las Palmas    Gáldar    24473.0"
      ]
     },
     "execution_count": 51,
     "metadata": {},
     "output_type": "execute_result"
    }
   ],
   "source": [
    "graficas.head()"
   ]
  },
  {
   "cell_type": "code",
   "execution_count": 63,
   "metadata": {},
   "outputs": [
    {
     "data": {
      "image/png": "[encoded data removed]",
      "text/plain": [
       "<Figure size 640x480 with 1 Axes>"
      ]
     },
     "metadata": {},
     "output_type": "display_data"
    }
   ],
   "source": [
    "graficas.groupby(['Provincia','Municipio'])['Poblacion'].hist(alpha=0.5, bins =20, color ='black')\n",
    "plt.xlabel('Poblacion')\n",
    "plt.ylabel('Frecuencia')\n",
    "plt.title('Poblacion de Municipios por Provincia')\n",
    "plt.show()"
   ]
  },
  {
   "attachments": {},
   "cell_type": "markdown",
   "metadata": {},
   "source": [
    "## 7. Seleccionar al azar cincuenta municipios diferentes de entre los disponibles en el archivo. Asegúrese de que no se repitan. ¿Luego calcule el promedio de la población y la desviación estándar de estos 50 municipios?"
   ]
  },
  {
   "cell_type": "code",
   "execution_count": 44,
   "metadata": {},
   "outputs": [
    {
     "name": "stdout",
     "output_type": "stream",
     "text": [
      "El numero de municipios es: 50\n"
     ]
    }
   ],
   "source": [
    "ejer_7 = nucleos_poblacion[['Municipio','Poblacion']]\n",
    "#random_mun = ejer_7['Municipio'].sample(n=50)\n",
    "random_mun = ejer_7.drop_duplicates(subset=['Municipio'])\n",
    "random_mun = random_mun.sample(n=50)\n",
    "print(f\"El numero de municipios es: {random_mun.shape[0]}\")\n",
    "\n"
   ]
  },
  {
   "cell_type": "code",
   "execution_count": 45,
   "metadata": {},
   "outputs": [
    {
     "name": "stdout",
     "output_type": "stream",
     "text": [
      "El promedio de poblacion de municipios al azar es: 32406.58\n",
      "La desviacion estandar de poblacion de municipios al azar es: 33715.06\n"
     ]
    }
   ],
   "source": [
    "print(f\"El promedio de poblacion de municipios al azar es: {random_mun['Poblacion'].mean()}\")\n",
    "print(f\"La desviacion estandar de poblacion de municipios al azar es: {round(random_mun['Poblacion'].std(),2)}\")"
   ]
  },
  {
   "attachments": {},
   "cell_type": "markdown",
   "metadata": {},
   "source": [
    "## 8. Dígame los nombres de los Municipios más cercano y más lejano a Madrid. Para ello debe calcular la distancia en todos ellos y Madrid. No considere a Madrid en el análisis ya que la distancia sería cero"
   ]
  },
  {
   "cell_type": "code",
   "execution_count": null,
   "metadata": {},
   "outputs": [
    {
     "data": {
      "text/html": [
       "<div>\n",
       "<style scoped>\n",
       "    .dataframe tbody tr th:only-of-type {\n",
       "        vertical-align: middle;\n",
       "    }\n",
       "\n",
       "    .dataframe tbody tr th {\n",
       "        vertical-align: top;\n",
       "    }\n",
       "\n",
       "    .dataframe thead th {\n",
       "        text-align: right;\n",
       "    }\n",
       "</style>\n",
       "<table border=\"1\" class=\"dataframe\">\n",
       "  <thead>\n",
       "    <tr style=\"text-align: right;\">\n",
       "      <th></th>\n",
       "      <th>FID</th>\n",
       "      <th>OBJECTID</th>\n",
       "      <th>Texto</th>\n",
       "      <th>Poblacion</th>\n",
       "      <th>CodMun</th>\n",
       "      <th>Municipio</th>\n",
       "      <th>CodProvin</th>\n",
       "      <th>Provincia</th>\n",
       "      <th>X</th>\n",
       "      <th>Y</th>\n",
       "    </tr>\n",
       "  </thead>\n",
       "  <tbody>\n",
       "    <tr>\n",
       "      <th>356</th>\n",
       "      <td>355</td>\n",
       "      <td>356</td>\n",
       "      <td>Madrid</td>\n",
       "      <td>3273049.0</td>\n",
       "      <td>28079</td>\n",
       "      <td>Madrid</td>\n",
       "      <td>28</td>\n",
       "      <td>Madrid</td>\n",
       "      <td>-3.703797</td>\n",
       "      <td>40.41663</td>\n",
       "    </tr>\n",
       "  </tbody>\n",
       "</table>\n",
       "</div>"
      ],
      "text/plain": [
       "0    FID OBJECTID   Texto  Poblacion CodMun Municipio CodProvin Provincia  \\\n",
       "356  355      356  Madrid  3273049.0  28079    Madrid        28    Madrid   \n",
       "\n",
       "0           X         Y  \n",
       "356 -3.703797  40.41663  "
      ]
     },
     "execution_count": 260,
     "metadata": {},
     "output_type": "execute_result"
    }
   ],
   "source": [
    "nucleos_poblacion[nucleos_poblacion['Municipio']== 'Madrid']"
   ]
  },
  {
   "attachments": {},
   "cell_type": "markdown",
   "metadata": {},
   "source": [
    "### Madrid coordenada en X = \t-3.703797"
   ]
  },
  {
   "cell_type": "code",
   "execution_count": null,
   "metadata": {},
   "outputs": [
    {
     "name": "stdout",
     "output_type": "stream",
     "text": [
      "             X                                   Municipio\n",
      "1   -15.446012                                     Agüimes\n",
      "2   -14.013301                                     Antigua\n",
      "3   -13.551451                                    Arrecife\n",
      "4   -15.521512                                      Arucas\n",
      "5   -15.654111                                      Gáldar\n",
      "..         ...                                         ...\n",
      "848  -1.124304                                      Murcia\n",
      "849  -1.202069                                      Murcia\n",
      "850  -1.130564                                      Murcia\n",
      "851  -3.948364                                      Toledo\n",
      "852   0.012911  Castellón de la Plana/Castelló de la Plana\n",
      "\n",
      "[851 rows x 2 columns]\n"
     ]
    }
   ],
   "source": [
    "distancia = nucleos_poblacion.loc[:,('X', 'Municipio')]\n",
    "distance = distancia['Municipio'] != 'Madrid'\n",
    "distancia = distancia[distance]\n",
    "distancia.columns = ['X','Municipio']\n",
    "print(distancia)\n",
    "madrid = -3.703797"
   ]
  },
  {
   "cell_type": "code",
   "execution_count": null,
   "metadata": {},
   "outputs": [
    {
     "name": "stdout",
     "output_type": "stream",
     "text": [
      "           X Municipio  Distancia desde Madrid\n",
      "1 -15.446012   Agüimes              -11.742215\n",
      "2 -14.013301   Antigua              -10.309504\n",
      "3 -13.551451  Arrecife               -9.847654\n",
      "4 -15.521512    Arucas              -11.817715\n",
      "5 -15.654111    Gáldar              -11.950314\n"
     ]
    }
   ],
   "source": [
    "distancia['Distancia desde Madrid'] = distancia['X'] - madrid\n",
    "print(distancia.head())"
   ]
  },
  {
   "cell_type": "code",
   "execution_count": null,
   "metadata": {},
   "outputs": [
    {
     "data": {
      "text/html": [
       "<div>\n",
       "<style scoped>\n",
       "    .dataframe tbody tr th:only-of-type {\n",
       "        vertical-align: middle;\n",
       "    }\n",
       "\n",
       "    .dataframe tbody tr th {\n",
       "        vertical-align: top;\n",
       "    }\n",
       "\n",
       "    .dataframe thead th {\n",
       "        text-align: right;\n",
       "    }\n",
       "</style>\n",
       "<table border=\"1\" class=\"dataframe\">\n",
       "  <thead>\n",
       "    <tr style=\"text-align: right;\">\n",
       "      <th></th>\n",
       "      <th>X</th>\n",
       "      <th>Municipio</th>\n",
       "      <th>Distancia desde Madrid</th>\n",
       "      <th>Rank</th>\n",
       "    </tr>\n",
       "  </thead>\n",
       "  <tbody>\n",
       "    <tr>\n",
       "      <th>365</th>\n",
       "      <td>-3.698250</td>\n",
       "      <td>Pinto</td>\n",
       "      <td>0.005547</td>\n",
       "      <td>371.0</td>\n",
       "    </tr>\n",
       "    <tr>\n",
       "      <th>506</th>\n",
       "      <td>-3.698161</td>\n",
       "      <td>Seseña</td>\n",
       "      <td>0.005636</td>\n",
       "      <td>372.0</td>\n",
       "    </tr>\n",
       "    <tr>\n",
       "      <th>268</th>\n",
       "      <td>-3.690916</td>\n",
       "      <td>Almuñécar</td>\n",
       "      <td>0.012881</td>\n",
       "      <td>373.0</td>\n",
       "    </tr>\n",
       "    <tr>\n",
       "      <th>213</th>\n",
       "      <td>-3.689243</td>\n",
       "      <td>Aranda de Duero</td>\n",
       "      <td>0.014554</td>\n",
       "      <td>374.0</td>\n",
       "    </tr>\n",
       "    <tr>\n",
       "      <th>270</th>\n",
       "      <td>-3.688734</td>\n",
       "      <td>Atarfe</td>\n",
       "      <td>0.015063</td>\n",
       "      <td>375.0</td>\n",
       "    </tr>\n",
       "  </tbody>\n",
       "</table>\n",
       "</div>"
      ],
      "text/plain": [
       "            X        Municipio  Distancia desde Madrid   Rank\n",
       "365 -3.698250            Pinto                0.005547  371.0\n",
       "506 -3.698161           Seseña                0.005636  372.0\n",
       "268 -3.690916        Almuñécar                0.012881  373.0\n",
       "213 -3.689243  Aranda de Duero                0.014554  374.0\n",
       "270 -3.688734           Atarfe                0.015063  375.0"
      ]
     },
     "execution_count": 315,
     "metadata": {},
     "output_type": "execute_result"
    }
   ],
   "source": [
    "positivos_cerca_de_Madrid = distancia[distancia['Distancia desde Madrid']>0].sort_values('Distancia desde Madrid').head(5)\n",
    "positivos_cerca_de_Madrid"
   ]
  },
  {
   "cell_type": "code",
   "execution_count": null,
   "metadata": {},
   "outputs": [
    {
     "data": {
      "text/html": [
       "<div>\n",
       "<style scoped>\n",
       "    .dataframe tbody tr th:only-of-type {\n",
       "        vertical-align: middle;\n",
       "    }\n",
       "\n",
       "    .dataframe tbody tr th {\n",
       "        vertical-align: top;\n",
       "    }\n",
       "\n",
       "    .dataframe thead th {\n",
       "        text-align: right;\n",
       "    }\n",
       "</style>\n",
       "<table border=\"1\" class=\"dataframe\">\n",
       "  <thead>\n",
       "    <tr style=\"text-align: right;\">\n",
       "      <th></th>\n",
       "      <th>X</th>\n",
       "      <th>Municipio</th>\n",
       "      <th>Distancia desde Madrid</th>\n",
       "      <th>Rank</th>\n",
       "    </tr>\n",
       "  </thead>\n",
       "  <tbody>\n",
       "    <tr>\n",
       "      <th>609</th>\n",
       "      <td>3.209521</td>\n",
       "      <td>Manacor</td>\n",
       "      <td>6.913318</td>\n",
       "      <td>847.0</td>\n",
       "    </tr>\n",
       "    <tr>\n",
       "      <th>620</th>\n",
       "      <td>3.360063</td>\n",
       "      <td>Son Servera</td>\n",
       "      <td>7.063860</td>\n",
       "      <td>848.0</td>\n",
       "    </tr>\n",
       "    <tr>\n",
       "      <th>602</th>\n",
       "      <td>3.433358</td>\n",
       "      <td>Capdepera</td>\n",
       "      <td>7.137155</td>\n",
       "      <td>849.0</td>\n",
       "    </tr>\n",
       "    <tr>\n",
       "      <th>603</th>\n",
       "      <td>3.837940</td>\n",
       "      <td>Ciutadella de Menorca</td>\n",
       "      <td>7.541737</td>\n",
       "      <td>850.0</td>\n",
       "    </tr>\n",
       "    <tr>\n",
       "      <th>608</th>\n",
       "      <td>4.265466</td>\n",
       "      <td>Maó</td>\n",
       "      <td>7.969263</td>\n",
       "      <td>851.0</td>\n",
       "    </tr>\n",
       "  </tbody>\n",
       "</table>\n",
       "</div>"
      ],
      "text/plain": [
       "            X              Municipio  Distancia desde Madrid   Rank\n",
       "609  3.209521                Manacor                6.913318  847.0\n",
       "620  3.360063            Son Servera                7.063860  848.0\n",
       "602  3.433358              Capdepera                7.137155  849.0\n",
       "603  3.837940  Ciutadella de Menorca                7.541737  850.0\n",
       "608  4.265466                    Maó                7.969263  851.0"
      ]
     },
     "execution_count": 318,
     "metadata": {},
     "output_type": "execute_result"
    }
   ],
   "source": [
    "positivos_lejos_de_Madrid = distancia[distancia['Distancia desde Madrid']>0].sort_values('Distancia desde Madrid').tail(5)\n",
    "positivos_lejos_de_Madrid"
   ]
  },
  {
   "cell_type": "code",
   "execution_count": null,
   "metadata": {},
   "outputs": [
    {
     "data": {
      "text/html": [
       "<div>\n",
       "<style scoped>\n",
       "    .dataframe tbody tr th:only-of-type {\n",
       "        vertical-align: middle;\n",
       "    }\n",
       "\n",
       "    .dataframe tbody tr th {\n",
       "        vertical-align: top;\n",
       "    }\n",
       "\n",
       "    .dataframe thead th {\n",
       "        text-align: right;\n",
       "    }\n",
       "</style>\n",
       "<table border=\"1\" class=\"dataframe\">\n",
       "  <thead>\n",
       "    <tr style=\"text-align: right;\">\n",
       "      <th></th>\n",
       "      <th>X</th>\n",
       "      <th>Municipio</th>\n",
       "      <th>Distancia desde Madrid</th>\n",
       "      <th>Rank</th>\n",
       "    </tr>\n",
       "  </thead>\n",
       "  <tbody>\n",
       "    <tr>\n",
       "      <th>30</th>\n",
       "      <td>-17.914361</td>\n",
       "      <td>Los Llanos de Aridane</td>\n",
       "      <td>-14.210564</td>\n",
       "      <td>1.0</td>\n",
       "    </tr>\n",
       "    <tr>\n",
       "      <th>36</th>\n",
       "      <td>-17.765386</td>\n",
       "      <td>Santa Cruz de la Palma</td>\n",
       "      <td>-14.061589</td>\n",
       "      <td>2.0</td>\n",
       "    </tr>\n",
       "    <tr>\n",
       "      <th>38</th>\n",
       "      <td>-16.816575</td>\n",
       "      <td>Santiago del Teide</td>\n",
       "      <td>-13.112778</td>\n",
       "      <td>3.0</td>\n",
       "    </tr>\n",
       "    <tr>\n",
       "      <th>26</th>\n",
       "      <td>-16.782611</td>\n",
       "      <td>Guía de Isora</td>\n",
       "      <td>-13.078814</td>\n",
       "      <td>4.0</td>\n",
       "    </tr>\n",
       "    <tr>\n",
       "      <th>22</th>\n",
       "      <td>-16.729708</td>\n",
       "      <td>Adeje</td>\n",
       "      <td>-13.025911</td>\n",
       "      <td>5.0</td>\n",
       "    </tr>\n",
       "  </tbody>\n",
       "</table>\n",
       "</div>"
      ],
      "text/plain": [
       "            X               Municipio  Distancia desde Madrid  Rank\n",
       "30 -17.914361   Los Llanos de Aridane              -14.210564   1.0\n",
       "36 -17.765386  Santa Cruz de la Palma              -14.061589   2.0\n",
       "38 -16.816575      Santiago del Teide              -13.112778   3.0\n",
       "26 -16.782611           Guía de Isora              -13.078814   4.0\n",
       "22 -16.729708                   Adeje              -13.025911   5.0"
      ]
     },
     "execution_count": 321,
     "metadata": {},
     "output_type": "execute_result"
    }
   ],
   "source": [
    "negativos_lejos_de_Madrid = distancia[distancia['Distancia desde Madrid']<0].sort_values('Distancia desde Madrid').head(5)\n",
    "negativos_lejos_de_Madrid"
   ]
  },
  {
   "cell_type": "code",
   "execution_count": null,
   "metadata": {},
   "outputs": [
    {
     "data": {
      "text/html": [
       "<div>\n",
       "<style scoped>\n",
       "    .dataframe tbody tr th:only-of-type {\n",
       "        vertical-align: middle;\n",
       "    }\n",
       "\n",
       "    .dataframe tbody tr th {\n",
       "        vertical-align: top;\n",
       "    }\n",
       "\n",
       "    .dataframe thead th {\n",
       "        text-align: right;\n",
       "    }\n",
       "</style>\n",
       "<table border=\"1\" class=\"dataframe\">\n",
       "  <thead>\n",
       "    <tr style=\"text-align: right;\">\n",
       "      <th></th>\n",
       "      <th>X</th>\n",
       "      <th>Municipio</th>\n",
       "      <th>Distancia desde Madrid</th>\n",
       "      <th>Rank</th>\n",
       "    </tr>\n",
       "  </thead>\n",
       "  <tbody>\n",
       "    <tr>\n",
       "      <th>781</th>\n",
       "      <td>-3.736771</td>\n",
       "      <td>Getafe</td>\n",
       "      <td>-0.032974</td>\n",
       "      <td>366.0</td>\n",
       "    </tr>\n",
       "    <tr>\n",
       "      <th>352</th>\n",
       "      <td>-3.729352</td>\n",
       "      <td>Getafe</td>\n",
       "      <td>-0.025555</td>\n",
       "      <td>367.0</td>\n",
       "    </tr>\n",
       "    <tr>\n",
       "      <th>284</th>\n",
       "      <td>-3.718964</td>\n",
       "      <td>Santa Fe</td>\n",
       "      <td>-0.015167</td>\n",
       "      <td>368.0</td>\n",
       "    </tr>\n",
       "    <tr>\n",
       "      <th>382</th>\n",
       "      <td>-3.704206</td>\n",
       "      <td>Tres Cantos</td>\n",
       "      <td>-0.000409</td>\n",
       "      <td>369.0</td>\n",
       "    </tr>\n",
       "    <tr>\n",
       "      <th>214</th>\n",
       "      <td>-3.704198</td>\n",
       "      <td>Burgos</td>\n",
       "      <td>-0.000401</td>\n",
       "      <td>370.0</td>\n",
       "    </tr>\n",
       "  </tbody>\n",
       "</table>\n",
       "</div>"
      ],
      "text/plain": [
       "            X    Municipio  Distancia desde Madrid   Rank\n",
       "781 -3.736771       Getafe               -0.032974  366.0\n",
       "352 -3.729352       Getafe               -0.025555  367.0\n",
       "284 -3.718964     Santa Fe               -0.015167  368.0\n",
       "382 -3.704206  Tres Cantos               -0.000409  369.0\n",
       "214 -3.704198       Burgos               -0.000401  370.0"
      ]
     },
     "execution_count": 325,
     "metadata": {},
     "output_type": "execute_result"
    }
   ],
   "source": [
    "negativos_cerca_de_Madrid = distancia[distancia['Distancia desde Madrid']<0].sort_values('Distancia desde Madrid').tail(5)\n",
    "negativos_cerca_de_Madrid"
   ]
  }
 ],
 "metadata": {
  "kernelspec": {
   "display_name": "CienciaDatos2022",
   "language": "python",
   "name": "python3"
  },
  "language_info": {
   "codemirror_mode": {
    "name": "ipython",
    "version": 3
   },
   "file_extension": ".py",
   "mimetype": "text/x-python",
   "name": "python",
   "nbconvert_exporter": "python",
   "pygments_lexer": "ipython3",
   "version": "3.10.6"
  },
  "orig_nbformat": 4
 },
 "nbformat": 4,
 "nbformat_minor": 2
}
