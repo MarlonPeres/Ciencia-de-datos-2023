{
 "cells": [
  {
   "attachments": {},
   "cell_type": "markdown",
   "metadata": {},
   "source": [
    "# HOJA DE TRABAJO #2"
   ]
  },
  {
   "attachments": {},
   "cell_type": "markdown",
   "metadata": {},
   "source": [
    "## Ejercicio 1 Resuelto"
   ]
  },
  {
   "cell_type": "code",
   "execution_count": 256,
   "metadata": {},
   "outputs": [
    {
     "name": "stdout",
     "output_type": "stream",
     "text": [
      "el valor en segundos es 50004\n",
      "El valor ingresado es 50004 y es igual a 13 horas, 53 minutos y 24 segundos \n"
     ]
    }
   ],
   "source": [
    "def calculadora(a,x= 3600,y =60,z=1):\n",
    "    print(f\"el valor en segundos es {a}\")\n",
    "    if a >= 3600:\n",
    "        horas = a/x\n",
    "        horas1 = int(horas)\n",
    "        minutos = abs(horas)-abs(int(horas))\n",
    "        minutos1= round(minutos,2)*60\n",
    "        minutos2= int(minutos1)\n",
    "        segundos = abs(minutos1)-abs(int(minutos1))\n",
    "        segundos1 = round(segundos,2)*60\n",
    "        segundos2 = int(segundos1)\n",
    "        #tiempo = horas1,minutos2,segundos2\n",
    "        print(f\"El valor ingresado es {a} y es igual a {horas1} horas, {minutos2} minutos y {segundos2} segundos \")\n",
    "    #return tiempo\n",
    "    elif 60 > a < 3600:\n",
    "        \n",
    "        minutos1= a/x\n",
    "        minutos2= int(minutos1*60)\n",
    "        minutos3 = minutos1 * 60\n",
    "        segundos = abs(minutos3)-abs(int(minutos3))\n",
    "        segundos1 = round(segundos,2)*60\n",
    "        segundos2 = int(segundos1)\n",
    "        print(f\"El valor ingresado es {a} y es igual a 0 horas, {minutos2} minutos y {segundos2} segundos \")\n",
    "        #return segundos2\n",
    "    elif a < 60:\n",
    "        print(f\"El valor en segundos es {a}\")\n",
    "\n",
    "\n",
    "calculadora(50004)\n"
   ]
  },
  {
   "attachments": {},
   "cell_type": "markdown",
   "metadata": {},
   "source": [
    "## Ejercicio 2/ Resuelto"
   ]
  },
  {
   "cell_type": "code",
   "execution_count": 257,
   "metadata": {},
   "outputs": [
    {
     "name": "stdout",
     "output_type": "stream",
     "text": [
      "                                                  ♣        ♣♣♣♣        ♣♣♣♣       ♣\n",
      "                                                  ♣♣        ♣♣♣        ♣♣♣       ♣♣\n",
      "                                                  ♣♣♣        ♣♣        ♣♣       ♣♣♣\n",
      "                                                  ♣♣♣♣        ♣        ♣       ♣♣♣♣\n"
     ]
    }
   ],
   "source": [
    "def ejerc2(numero, text):\n",
    "    \n",
    "    for l in range(numero):\n",
    "        espacios = (numero - 1)-l\n",
    "        print(\" \"*(50)+''*(espacios) +text*(l+1) + \\\n",
    "             \"        \"+ text*(espacios+1)+\"        \"\\\n",
    "             +text*(espacios+1)  +\"       \"+''*(espacios)+text*(l+1))\n",
    "ejerc2(4,'♣')"
   ]
  },
  {
   "attachments": {},
   "cell_type": "markdown",
   "metadata": {},
   "source": [
    "## Ejercicio 3/ Resuelto"
   ]
  },
  {
   "cell_type": "code",
   "execution_count": 258,
   "metadata": {},
   "outputs": [
    {
     "name": "stdout",
     "output_type": "stream",
     "text": [
      "31 Años 1 Meses 18 Dias\n"
     ]
    }
   ],
   "source": [
    "try:\n",
    "    from datetime import datetime\n",
    "    fecha_nacimiento = input(\"Ingrese fecha de nacimiento (dd/mm/yyyy): \")\n",
    "    fecha_nacimiento = datetime.strptime(fecha_nacimiento, '%d/%m/%Y')\n",
    "except:\n",
    "    print(\"La fecha ingresada no es correcta, el formato debe ser (dd/mm/yyyy)\")\n",
    "    exit()\n",
    "\n",
    "#variables para fecha de nacimiento\n",
    "anioNac = fecha_nacimiento.year\n",
    "mesNac = fecha_nacimiento.month\n",
    "diaNac = fecha_nacimiento.day\n",
    "\n",
    "#variables hoy\n",
    "fecha_hoy = datetime.today()\n",
    "\n",
    "anioHoy = fecha_hoy.year\n",
    "mesHoy = fecha_hoy.month\n",
    "diaHoy = fecha_hoy.day\n",
    "\n",
    "\n",
    "mes_adicional = 0\n",
    "if(diaNac > diaHoy):\n",
    "    import calendar\n",
    "    ultimo_dia = calendar.monthrange(anioNac,mesNac)[1]\n",
    "    diaHoy = diaHoy +ultimo_dia\n",
    "    mes_adicional = 1\n",
    "\n",
    "dias = diaHoy - diaNac\n",
    "\n",
    "\n",
    "\n",
    "anio_adicional = 0\n",
    "if(mesNac > mesHoy):\n",
    "    mesHoy = mesHoy + 12\n",
    "    anio_adicional = 1\n",
    "\n",
    "meses = mesHoy - (mesNac + mes_adicional)\n",
    "anios = anioHoy - (anioNac + anio_adicional)\n",
    "\n",
    "\n",
    "print(str(anios)+\" Años \"+str(meses)+\" Meses \"+str(dias)+\" Dias\")\n",
    "\n",
    "\n",
    "\n",
    "\n"
   ]
  },
  {
   "attachments": {},
   "cell_type": "markdown",
   "metadata": {},
   "source": [
    "### Ejercicio 3"
   ]
  },
  {
   "cell_type": "code",
   "execution_count": 259,
   "metadata": {},
   "outputs": [
    {
     "name": "stdout",
     "output_type": "stream",
     "text": [
      "Usted nacio el 5 de 2 de 1992\n",
      "ud tiene 31 años, con \n"
     ]
    }
   ],
   "source": [
    "from datetime import datetime\n",
    "year_current = datetime.today().year\n",
    "month_current = datetime.today().month\n",
    "day_current = datetime.today().day\n",
    "dia_nacimiento = int(input(\"Ingrese su dia de nacimiento :\"))\n",
    "mes_nacimiento = int(input(\"Ingrese su mes de nacimiento :\"))\n",
    "anio_nacimiento = int(input(\"ingrese su año de nacimiento: \"))\n",
    "\n",
    "print(f\"Usted nacio el {dia_nacimiento} de {mes_nacimiento} de {anio_nacimiento}\")\n",
    "print(f\"ud tiene {year_current - anio_nacimiento} años, con \")\n"
   ]
  },
  {
   "attachments": {},
   "cell_type": "markdown",
   "metadata": {},
   "source": [
    "## Ejercicio 4 / Resuelto"
   ]
  },
  {
   "cell_type": "code",
   "execution_count": 4,
   "metadata": {},
   "outputs": [
    {
     "data": {
      "text/plain": [
       "'102040570'"
      ]
     },
     "execution_count": 4,
     "metadata": {},
     "output_type": "execute_result"
    }
   ],
   "source": [
    "def tuplas_string(*variables):\n",
    "    string = ''.join(map(str,variables))\n",
    "    return string\n",
    "\n",
    "tuplas_string(10,20,'Hola',5,'♥')   \n",
    "tuplas_string(10,20,40,5,70)"
   ]
  },
  {
   "attachments": {},
   "cell_type": "markdown",
   "metadata": {},
   "source": [
    "## Ejercicio 5- resuelto"
   ]
  },
  {
   "cell_type": "code",
   "execution_count": 5,
   "metadata": {},
   "outputs": [],
   "source": [
    "def eliminar_tuplas_vacias(lista_ejercicio_5):\n",
    "    lista_ejercicio_5 = [Tupla for Tupla in lista_ejercicio_5 if Tupla]\n",
    "\n",
    "    print(lista_ejercicio_5)\n"
   ]
  },
  {
   "cell_type": "code",
   "execution_count": 7,
   "metadata": {},
   "outputs": [
    {
     "name": "stdout",
     "output_type": "stream",
     "text": [
      "[('X',), ('a', 'b'), ('a', 'b', 'c'), (1, 2, 2), ('d', 'HOLA')]\n"
     ]
    }
   ],
   "source": [
    "eliminar_tuplas_vacias([('X',),(), ('a','b'),('a','b','c'),(), (1,2,2),('d','HOLA')])"
   ]
  },
  {
   "attachments": {},
   "cell_type": "markdown",
   "metadata": {},
   "source": [
    "## Ejercicio 6 - resuelto"
   ]
  },
  {
   "cell_type": "code",
   "execution_count": 10,
   "metadata": {},
   "outputs": [
    {
     "name": "stdout",
     "output_type": "stream",
     "text": [
      "(10.5, 44.0, 58.0)\n"
     ]
    }
   ],
   "source": [
    "def promedio_por_filas(*array):\n",
    "    array_cambio = list(*array)\n",
    "    promedios = []\n",
    "\n",
    "    for fila in array_cambio:\n",
    "        promedio = sum(fila)/len(fila)\n",
    "        promedios.append(promedio)\n",
    "        promedio_tupla = tuple(promedios)\n",
    "\n",
    "    return promedio_tupla\n",
    "\n",
    "\n",
    "promedios = promedio_por_filas(((10,10,10,12),(30,45,56,45),(81,80,39,32)))\n",
    "print(promedios)\n",
    "    "
   ]
  },
  {
   "attachments": {},
   "cell_type": "markdown",
   "metadata": {},
   "source": [
    "## Ejercicio 7 FACTURAS"
   ]
  },
  {
   "cell_type": "code",
   "execution_count": 261,
   "metadata": {},
   "outputs": [],
   "source": [
    "dict_factura = {}\n",
    "pagado = {}\n",
    "pendiente = []\n",
    "cancelado = []\n",
    "def facturas(eleccion_menu): \n",
    "    \n",
    "    print(\"\"\"BIENVENIDO AL MENU, seleccione una opcion:\n",
    "    1-Añadir una nueva factura\n",
    "    2-Pagar una factura existente\n",
    "    3-Terminar\"\"\")\n",
    "    eleccion_menu = int(input(\"Por favor ingrese un numero :\"))\n",
    "    if eleccion_menu ==1:\n",
    "        añadir_fac = int(input(\"Digite los 4 digitos de su nueva factura\"))\n",
    "        valor_fact = input(\"Ingrese el valor de su factura\")\n",
    "        dict_factura[añadir_fac] = valor_fact\n",
    "        #pendiente.append(dict_factura[valor_fact])\n",
    "        return dict_factura\n",
    "    elif eleccion_menu ==2:\n",
    "        pagar_fact = int(input(\"Ingrese el numero de factura a pagar\"))\n",
    "        pagado[pagar_fact]=dict_factura[pagar_fact]\n",
    "        if pagar_fact in dict_factura:\n",
    "            dict_factura.pop(pagar_fact)\n",
    "            print(f\"ûltima actualizacion de facturas: {dict_factura}\")\n",
    "            print(f\"El monton pendiente de pagar es : {pendiente}\")\n",
    "            print(f\"Actualizacion de factuas pagadas:{pagado}\")\n",
    "            "
   ]
  },
  {
   "attachments": {},
   "cell_type": "markdown",
   "metadata": {},
   "source": [
    "## Ejercicio # 8"
   ]
  },
  {
   "cell_type": "code",
   "execution_count": null,
   "metadata": {},
   "outputs": [],
   "source": []
  }
 ],
 "metadata": {
  "kernelspec": {
   "display_name": "CienciaDatos2022",
   "language": "python",
   "name": "python3"
  },
  "language_info": {
   "codemirror_mode": {
    "name": "ipython",
    "version": 3
   },
   "file_extension": ".py",
   "mimetype": "text/x-python",
   "name": "python",
   "nbconvert_exporter": "python",
   "pygments_lexer": "ipython3",
   "version": "3.10.6"
  },
  "orig_nbformat": 4,
  "vscode": {
   "interpreter": {
    "hash": "d9836e237483100294bf4fe60726669376bec7ef4d59834c9c9611ef816a86d3"
   }
  }
 },
 "nbformat": 4,
 "nbformat_minor": 2
}
